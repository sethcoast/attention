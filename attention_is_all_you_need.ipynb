{
  "nbformat": 4,
  "nbformat_minor": 0,
  "metadata": {
    "colab": {
      "provenance": [],
      "machine_shape": "hm",
      "gpuType": "V100",
      "mount_file_id": "1JulSq5XX-TaRj3iJyFHpuiyPMml1J9HP",
      "authorship_tag": "ABX9TyMwxcOzDvb3AnOPc3JZGFtC",
      "include_colab_link": true
    },
    "kernelspec": {
      "name": "python3",
      "display_name": "Python 3"
    },
    "language_info": {
      "name": "python"
    },
    "widgets": {
      "application/vnd.jupyter.widget-state+json": {
        "7fe9dbe544734295907c674a9a482800": {
          "model_module": "@jupyter-widgets/controls",
          "model_name": "HBoxModel",
          "model_module_version": "1.5.0",
          "state": {
            "_dom_classes": [],
            "_model_module": "@jupyter-widgets/controls",
            "_model_module_version": "1.5.0",
            "_model_name": "HBoxModel",
            "_view_count": null,
            "_view_module": "@jupyter-widgets/controls",
            "_view_module_version": "1.5.0",
            "_view_name": "HBoxView",
            "box_style": "",
            "children": [
              "IPY_MODEL_7c33590916114927bf5545cb8034f9a5",
              "IPY_MODEL_fc365b06d5574b2cba1766d2a4f5cb64",
              "IPY_MODEL_1b794a6614ad4ec39414c488e549fc4a"
            ],
            "layout": "IPY_MODEL_4bdba35103bf4d0f856b2ac94ac568eb"
          }
        },
        "7c33590916114927bf5545cb8034f9a5": {
          "model_module": "@jupyter-widgets/controls",
          "model_name": "HTMLModel",
          "model_module_version": "1.5.0",
          "state": {
            "_dom_classes": [],
            "_model_module": "@jupyter-widgets/controls",
            "_model_module_version": "1.5.0",
            "_model_name": "HTMLModel",
            "_view_count": null,
            "_view_module": "@jupyter-widgets/controls",
            "_view_module_version": "1.5.0",
            "_view_name": "HTMLView",
            "description": "",
            "description_tooltip": null,
            "layout": "IPY_MODEL_103054e9f69f4de098b0782bd2aedd1c",
            "placeholder": "​",
            "style": "IPY_MODEL_95bb49199a2f40bab9bf7d44f21c2b37",
            "value": "tokenizer_config.json: 100%"
          }
        },
        "fc365b06d5574b2cba1766d2a4f5cb64": {
          "model_module": "@jupyter-widgets/controls",
          "model_name": "FloatProgressModel",
          "model_module_version": "1.5.0",
          "state": {
            "_dom_classes": [],
            "_model_module": "@jupyter-widgets/controls",
            "_model_module_version": "1.5.0",
            "_model_name": "FloatProgressModel",
            "_view_count": null,
            "_view_module": "@jupyter-widgets/controls",
            "_view_module_version": "1.5.0",
            "_view_name": "ProgressView",
            "bar_style": "success",
            "description": "",
            "description_tooltip": null,
            "layout": "IPY_MODEL_fa321a9606c3472ab5cfdf343d6e825d",
            "max": 49,
            "min": 0,
            "orientation": "horizontal",
            "style": "IPY_MODEL_86b8acbc559e469ebe42a3520f3044d6",
            "value": 49
          }
        },
        "1b794a6614ad4ec39414c488e549fc4a": {
          "model_module": "@jupyter-widgets/controls",
          "model_name": "HTMLModel",
          "model_module_version": "1.5.0",
          "state": {
            "_dom_classes": [],
            "_model_module": "@jupyter-widgets/controls",
            "_model_module_version": "1.5.0",
            "_model_name": "HTMLModel",
            "_view_count": null,
            "_view_module": "@jupyter-widgets/controls",
            "_view_module_version": "1.5.0",
            "_view_name": "HTMLView",
            "description": "",
            "description_tooltip": null,
            "layout": "IPY_MODEL_29d5161068cb478dba71ee6c5bd771ce",
            "placeholder": "​",
            "style": "IPY_MODEL_ab2b672c1ea645fe92944a8b992a6b6a",
            "value": " 49.0/49.0 [00:00&lt;00:00, 3.43kB/s]"
          }
        },
        "4bdba35103bf4d0f856b2ac94ac568eb": {
          "model_module": "@jupyter-widgets/base",
          "model_name": "LayoutModel",
          "model_module_version": "1.2.0",
          "state": {
            "_model_module": "@jupyter-widgets/base",
            "_model_module_version": "1.2.0",
            "_model_name": "LayoutModel",
            "_view_count": null,
            "_view_module": "@jupyter-widgets/base",
            "_view_module_version": "1.2.0",
            "_view_name": "LayoutView",
            "align_content": null,
            "align_items": null,
            "align_self": null,
            "border": null,
            "bottom": null,
            "display": null,
            "flex": null,
            "flex_flow": null,
            "grid_area": null,
            "grid_auto_columns": null,
            "grid_auto_flow": null,
            "grid_auto_rows": null,
            "grid_column": null,
            "grid_gap": null,
            "grid_row": null,
            "grid_template_areas": null,
            "grid_template_columns": null,
            "grid_template_rows": null,
            "height": null,
            "justify_content": null,
            "justify_items": null,
            "left": null,
            "margin": null,
            "max_height": null,
            "max_width": null,
            "min_height": null,
            "min_width": null,
            "object_fit": null,
            "object_position": null,
            "order": null,
            "overflow": null,
            "overflow_x": null,
            "overflow_y": null,
            "padding": null,
            "right": null,
            "top": null,
            "visibility": null,
            "width": null
          }
        },
        "103054e9f69f4de098b0782bd2aedd1c": {
          "model_module": "@jupyter-widgets/base",
          "model_name": "LayoutModel",
          "model_module_version": "1.2.0",
          "state": {
            "_model_module": "@jupyter-widgets/base",
            "_model_module_version": "1.2.0",
            "_model_name": "LayoutModel",
            "_view_count": null,
            "_view_module": "@jupyter-widgets/base",
            "_view_module_version": "1.2.0",
            "_view_name": "LayoutView",
            "align_content": null,
            "align_items": null,
            "align_self": null,
            "border": null,
            "bottom": null,
            "display": null,
            "flex": null,
            "flex_flow": null,
            "grid_area": null,
            "grid_auto_columns": null,
            "grid_auto_flow": null,
            "grid_auto_rows": null,
            "grid_column": null,
            "grid_gap": null,
            "grid_row": null,
            "grid_template_areas": null,
            "grid_template_columns": null,
            "grid_template_rows": null,
            "height": null,
            "justify_content": null,
            "justify_items": null,
            "left": null,
            "margin": null,
            "max_height": null,
            "max_width": null,
            "min_height": null,
            "min_width": null,
            "object_fit": null,
            "object_position": null,
            "order": null,
            "overflow": null,
            "overflow_x": null,
            "overflow_y": null,
            "padding": null,
            "right": null,
            "top": null,
            "visibility": null,
            "width": null
          }
        },
        "95bb49199a2f40bab9bf7d44f21c2b37": {
          "model_module": "@jupyter-widgets/controls",
          "model_name": "DescriptionStyleModel",
          "model_module_version": "1.5.0",
          "state": {
            "_model_module": "@jupyter-widgets/controls",
            "_model_module_version": "1.5.0",
            "_model_name": "DescriptionStyleModel",
            "_view_count": null,
            "_view_module": "@jupyter-widgets/base",
            "_view_module_version": "1.2.0",
            "_view_name": "StyleView",
            "description_width": ""
          }
        },
        "fa321a9606c3472ab5cfdf343d6e825d": {
          "model_module": "@jupyter-widgets/base",
          "model_name": "LayoutModel",
          "model_module_version": "1.2.0",
          "state": {
            "_model_module": "@jupyter-widgets/base",
            "_model_module_version": "1.2.0",
            "_model_name": "LayoutModel",
            "_view_count": null,
            "_view_module": "@jupyter-widgets/base",
            "_view_module_version": "1.2.0",
            "_view_name": "LayoutView",
            "align_content": null,
            "align_items": null,
            "align_self": null,
            "border": null,
            "bottom": null,
            "display": null,
            "flex": null,
            "flex_flow": null,
            "grid_area": null,
            "grid_auto_columns": null,
            "grid_auto_flow": null,
            "grid_auto_rows": null,
            "grid_column": null,
            "grid_gap": null,
            "grid_row": null,
            "grid_template_areas": null,
            "grid_template_columns": null,
            "grid_template_rows": null,
            "height": null,
            "justify_content": null,
            "justify_items": null,
            "left": null,
            "margin": null,
            "max_height": null,
            "max_width": null,
            "min_height": null,
            "min_width": null,
            "object_fit": null,
            "object_position": null,
            "order": null,
            "overflow": null,
            "overflow_x": null,
            "overflow_y": null,
            "padding": null,
            "right": null,
            "top": null,
            "visibility": null,
            "width": null
          }
        },
        "86b8acbc559e469ebe42a3520f3044d6": {
          "model_module": "@jupyter-widgets/controls",
          "model_name": "ProgressStyleModel",
          "model_module_version": "1.5.0",
          "state": {
            "_model_module": "@jupyter-widgets/controls",
            "_model_module_version": "1.5.0",
            "_model_name": "ProgressStyleModel",
            "_view_count": null,
            "_view_module": "@jupyter-widgets/base",
            "_view_module_version": "1.2.0",
            "_view_name": "StyleView",
            "bar_color": null,
            "description_width": ""
          }
        },
        "29d5161068cb478dba71ee6c5bd771ce": {
          "model_module": "@jupyter-widgets/base",
          "model_name": "LayoutModel",
          "model_module_version": "1.2.0",
          "state": {
            "_model_module": "@jupyter-widgets/base",
            "_model_module_version": "1.2.0",
            "_model_name": "LayoutModel",
            "_view_count": null,
            "_view_module": "@jupyter-widgets/base",
            "_view_module_version": "1.2.0",
            "_view_name": "LayoutView",
            "align_content": null,
            "align_items": null,
            "align_self": null,
            "border": null,
            "bottom": null,
            "display": null,
            "flex": null,
            "flex_flow": null,
            "grid_area": null,
            "grid_auto_columns": null,
            "grid_auto_flow": null,
            "grid_auto_rows": null,
            "grid_column": null,
            "grid_gap": null,
            "grid_row": null,
            "grid_template_areas": null,
            "grid_template_columns": null,
            "grid_template_rows": null,
            "height": null,
            "justify_content": null,
            "justify_items": null,
            "left": null,
            "margin": null,
            "max_height": null,
            "max_width": null,
            "min_height": null,
            "min_width": null,
            "object_fit": null,
            "object_position": null,
            "order": null,
            "overflow": null,
            "overflow_x": null,
            "overflow_y": null,
            "padding": null,
            "right": null,
            "top": null,
            "visibility": null,
            "width": null
          }
        },
        "ab2b672c1ea645fe92944a8b992a6b6a": {
          "model_module": "@jupyter-widgets/controls",
          "model_name": "DescriptionStyleModel",
          "model_module_version": "1.5.0",
          "state": {
            "_model_module": "@jupyter-widgets/controls",
            "_model_module_version": "1.5.0",
            "_model_name": "DescriptionStyleModel",
            "_view_count": null,
            "_view_module": "@jupyter-widgets/base",
            "_view_module_version": "1.2.0",
            "_view_name": "StyleView",
            "description_width": ""
          }
        },
        "18647c9457a14d7ab1736a81384eefbd": {
          "model_module": "@jupyter-widgets/controls",
          "model_name": "HBoxModel",
          "model_module_version": "1.5.0",
          "state": {
            "_dom_classes": [],
            "_model_module": "@jupyter-widgets/controls",
            "_model_module_version": "1.5.0",
            "_model_name": "HBoxModel",
            "_view_count": null,
            "_view_module": "@jupyter-widgets/controls",
            "_view_module_version": "1.5.0",
            "_view_name": "HBoxView",
            "box_style": "",
            "children": [
              "IPY_MODEL_e4bc9fa603a247aabcaea8de2b5896fc",
              "IPY_MODEL_626ed2ea02434c6795369490284817d6",
              "IPY_MODEL_0168d293c86941fa91876daeeb50cf43"
            ],
            "layout": "IPY_MODEL_b708c758a1cd48f2acff6453563be755"
          }
        },
        "e4bc9fa603a247aabcaea8de2b5896fc": {
          "model_module": "@jupyter-widgets/controls",
          "model_name": "HTMLModel",
          "model_module_version": "1.5.0",
          "state": {
            "_dom_classes": [],
            "_model_module": "@jupyter-widgets/controls",
            "_model_module_version": "1.5.0",
            "_model_name": "HTMLModel",
            "_view_count": null,
            "_view_module": "@jupyter-widgets/controls",
            "_view_module_version": "1.5.0",
            "_view_name": "HTMLView",
            "description": "",
            "description_tooltip": null,
            "layout": "IPY_MODEL_d39b6b50b67440b6afa244eb4923ad37",
            "placeholder": "​",
            "style": "IPY_MODEL_89aab4e09af9449e85201f6fecde2675",
            "value": "config.json: 100%"
          }
        },
        "626ed2ea02434c6795369490284817d6": {
          "model_module": "@jupyter-widgets/controls",
          "model_name": "FloatProgressModel",
          "model_module_version": "1.5.0",
          "state": {
            "_dom_classes": [],
            "_model_module": "@jupyter-widgets/controls",
            "_model_module_version": "1.5.0",
            "_model_name": "FloatProgressModel",
            "_view_count": null,
            "_view_module": "@jupyter-widgets/controls",
            "_view_module_version": "1.5.0",
            "_view_name": "ProgressView",
            "bar_style": "success",
            "description": "",
            "description_tooltip": null,
            "layout": "IPY_MODEL_2a03ac1f22d74f71825a8ab4e44bd8f3",
            "max": 625,
            "min": 0,
            "orientation": "horizontal",
            "style": "IPY_MODEL_d51c408909c644588515ed430ad66b9e",
            "value": 625
          }
        },
        "0168d293c86941fa91876daeeb50cf43": {
          "model_module": "@jupyter-widgets/controls",
          "model_name": "HTMLModel",
          "model_module_version": "1.5.0",
          "state": {
            "_dom_classes": [],
            "_model_module": "@jupyter-widgets/controls",
            "_model_module_version": "1.5.0",
            "_model_name": "HTMLModel",
            "_view_count": null,
            "_view_module": "@jupyter-widgets/controls",
            "_view_module_version": "1.5.0",
            "_view_name": "HTMLView",
            "description": "",
            "description_tooltip": null,
            "layout": "IPY_MODEL_5bd1dc95d1374ddfafcbc315ae828579",
            "placeholder": "​",
            "style": "IPY_MODEL_2266b3200ec1411d8504da12de588865",
            "value": " 625/625 [00:00&lt;00:00, 50.6kB/s]"
          }
        },
        "b708c758a1cd48f2acff6453563be755": {
          "model_module": "@jupyter-widgets/base",
          "model_name": "LayoutModel",
          "model_module_version": "1.2.0",
          "state": {
            "_model_module": "@jupyter-widgets/base",
            "_model_module_version": "1.2.0",
            "_model_name": "LayoutModel",
            "_view_count": null,
            "_view_module": "@jupyter-widgets/base",
            "_view_module_version": "1.2.0",
            "_view_name": "LayoutView",
            "align_content": null,
            "align_items": null,
            "align_self": null,
            "border": null,
            "bottom": null,
            "display": null,
            "flex": null,
            "flex_flow": null,
            "grid_area": null,
            "grid_auto_columns": null,
            "grid_auto_flow": null,
            "grid_auto_rows": null,
            "grid_column": null,
            "grid_gap": null,
            "grid_row": null,
            "grid_template_areas": null,
            "grid_template_columns": null,
            "grid_template_rows": null,
            "height": null,
            "justify_content": null,
            "justify_items": null,
            "left": null,
            "margin": null,
            "max_height": null,
            "max_width": null,
            "min_height": null,
            "min_width": null,
            "object_fit": null,
            "object_position": null,
            "order": null,
            "overflow": null,
            "overflow_x": null,
            "overflow_y": null,
            "padding": null,
            "right": null,
            "top": null,
            "visibility": null,
            "width": null
          }
        },
        "d39b6b50b67440b6afa244eb4923ad37": {
          "model_module": "@jupyter-widgets/base",
          "model_name": "LayoutModel",
          "model_module_version": "1.2.0",
          "state": {
            "_model_module": "@jupyter-widgets/base",
            "_model_module_version": "1.2.0",
            "_model_name": "LayoutModel",
            "_view_count": null,
            "_view_module": "@jupyter-widgets/base",
            "_view_module_version": "1.2.0",
            "_view_name": "LayoutView",
            "align_content": null,
            "align_items": null,
            "align_self": null,
            "border": null,
            "bottom": null,
            "display": null,
            "flex": null,
            "flex_flow": null,
            "grid_area": null,
            "grid_auto_columns": null,
            "grid_auto_flow": null,
            "grid_auto_rows": null,
            "grid_column": null,
            "grid_gap": null,
            "grid_row": null,
            "grid_template_areas": null,
            "grid_template_columns": null,
            "grid_template_rows": null,
            "height": null,
            "justify_content": null,
            "justify_items": null,
            "left": null,
            "margin": null,
            "max_height": null,
            "max_width": null,
            "min_height": null,
            "min_width": null,
            "object_fit": null,
            "object_position": null,
            "order": null,
            "overflow": null,
            "overflow_x": null,
            "overflow_y": null,
            "padding": null,
            "right": null,
            "top": null,
            "visibility": null,
            "width": null
          }
        },
        "89aab4e09af9449e85201f6fecde2675": {
          "model_module": "@jupyter-widgets/controls",
          "model_name": "DescriptionStyleModel",
          "model_module_version": "1.5.0",
          "state": {
            "_model_module": "@jupyter-widgets/controls",
            "_model_module_version": "1.5.0",
            "_model_name": "DescriptionStyleModel",
            "_view_count": null,
            "_view_module": "@jupyter-widgets/base",
            "_view_module_version": "1.2.0",
            "_view_name": "StyleView",
            "description_width": ""
          }
        },
        "2a03ac1f22d74f71825a8ab4e44bd8f3": {
          "model_module": "@jupyter-widgets/base",
          "model_name": "LayoutModel",
          "model_module_version": "1.2.0",
          "state": {
            "_model_module": "@jupyter-widgets/base",
            "_model_module_version": "1.2.0",
            "_model_name": "LayoutModel",
            "_view_count": null,
            "_view_module": "@jupyter-widgets/base",
            "_view_module_version": "1.2.0",
            "_view_name": "LayoutView",
            "align_content": null,
            "align_items": null,
            "align_self": null,
            "border": null,
            "bottom": null,
            "display": null,
            "flex": null,
            "flex_flow": null,
            "grid_area": null,
            "grid_auto_columns": null,
            "grid_auto_flow": null,
            "grid_auto_rows": null,
            "grid_column": null,
            "grid_gap": null,
            "grid_row": null,
            "grid_template_areas": null,
            "grid_template_columns": null,
            "grid_template_rows": null,
            "height": null,
            "justify_content": null,
            "justify_items": null,
            "left": null,
            "margin": null,
            "max_height": null,
            "max_width": null,
            "min_height": null,
            "min_width": null,
            "object_fit": null,
            "object_position": null,
            "order": null,
            "overflow": null,
            "overflow_x": null,
            "overflow_y": null,
            "padding": null,
            "right": null,
            "top": null,
            "visibility": null,
            "width": null
          }
        },
        "d51c408909c644588515ed430ad66b9e": {
          "model_module": "@jupyter-widgets/controls",
          "model_name": "ProgressStyleModel",
          "model_module_version": "1.5.0",
          "state": {
            "_model_module": "@jupyter-widgets/controls",
            "_model_module_version": "1.5.0",
            "_model_name": "ProgressStyleModel",
            "_view_count": null,
            "_view_module": "@jupyter-widgets/base",
            "_view_module_version": "1.2.0",
            "_view_name": "StyleView",
            "bar_color": null,
            "description_width": ""
          }
        },
        "5bd1dc95d1374ddfafcbc315ae828579": {
          "model_module": "@jupyter-widgets/base",
          "model_name": "LayoutModel",
          "model_module_version": "1.2.0",
          "state": {
            "_model_module": "@jupyter-widgets/base",
            "_model_module_version": "1.2.0",
            "_model_name": "LayoutModel",
            "_view_count": null,
            "_view_module": "@jupyter-widgets/base",
            "_view_module_version": "1.2.0",
            "_view_name": "LayoutView",
            "align_content": null,
            "align_items": null,
            "align_self": null,
            "border": null,
            "bottom": null,
            "display": null,
            "flex": null,
            "flex_flow": null,
            "grid_area": null,
            "grid_auto_columns": null,
            "grid_auto_flow": null,
            "grid_auto_rows": null,
            "grid_column": null,
            "grid_gap": null,
            "grid_row": null,
            "grid_template_areas": null,
            "grid_template_columns": null,
            "grid_template_rows": null,
            "height": null,
            "justify_content": null,
            "justify_items": null,
            "left": null,
            "margin": null,
            "max_height": null,
            "max_width": null,
            "min_height": null,
            "min_width": null,
            "object_fit": null,
            "object_position": null,
            "order": null,
            "overflow": null,
            "overflow_x": null,
            "overflow_y": null,
            "padding": null,
            "right": null,
            "top": null,
            "visibility": null,
            "width": null
          }
        },
        "2266b3200ec1411d8504da12de588865": {
          "model_module": "@jupyter-widgets/controls",
          "model_name": "DescriptionStyleModel",
          "model_module_version": "1.5.0",
          "state": {
            "_model_module": "@jupyter-widgets/controls",
            "_model_module_version": "1.5.0",
            "_model_name": "DescriptionStyleModel",
            "_view_count": null,
            "_view_module": "@jupyter-widgets/base",
            "_view_module_version": "1.2.0",
            "_view_name": "StyleView",
            "description_width": ""
          }
        },
        "dc3e3936cda54bc78ca6fce0215ecd0e": {
          "model_module": "@jupyter-widgets/controls",
          "model_name": "HBoxModel",
          "model_module_version": "1.5.0",
          "state": {
            "_dom_classes": [],
            "_model_module": "@jupyter-widgets/controls",
            "_model_module_version": "1.5.0",
            "_model_name": "HBoxModel",
            "_view_count": null,
            "_view_module": "@jupyter-widgets/controls",
            "_view_module_version": "1.5.0",
            "_view_name": "HBoxView",
            "box_style": "",
            "children": [
              "IPY_MODEL_d574deb3df9e4dc491b27cd59259d5f5",
              "IPY_MODEL_1c90545864f846d5ae204cd73b89b0a8",
              "IPY_MODEL_b8a29e7edf1c41a292c945030e654e19"
            ],
            "layout": "IPY_MODEL_364eae25fc2142e38e8a67df7daf33bc"
          }
        },
        "d574deb3df9e4dc491b27cd59259d5f5": {
          "model_module": "@jupyter-widgets/controls",
          "model_name": "HTMLModel",
          "model_module_version": "1.5.0",
          "state": {
            "_dom_classes": [],
            "_model_module": "@jupyter-widgets/controls",
            "_model_module_version": "1.5.0",
            "_model_name": "HTMLModel",
            "_view_count": null,
            "_view_module": "@jupyter-widgets/controls",
            "_view_module_version": "1.5.0",
            "_view_name": "HTMLView",
            "description": "",
            "description_tooltip": null,
            "layout": "IPY_MODEL_3ddb2418b34340adac73148a96e31b20",
            "placeholder": "​",
            "style": "IPY_MODEL_6838c1888b4e46d4a937fe248cd55f99",
            "value": "vocab.txt: 100%"
          }
        },
        "1c90545864f846d5ae204cd73b89b0a8": {
          "model_module": "@jupyter-widgets/controls",
          "model_name": "FloatProgressModel",
          "model_module_version": "1.5.0",
          "state": {
            "_dom_classes": [],
            "_model_module": "@jupyter-widgets/controls",
            "_model_module_version": "1.5.0",
            "_model_name": "FloatProgressModel",
            "_view_count": null,
            "_view_module": "@jupyter-widgets/controls",
            "_view_module_version": "1.5.0",
            "_view_name": "ProgressView",
            "bar_style": "success",
            "description": "",
            "description_tooltip": null,
            "layout": "IPY_MODEL_6610fd2f59864553b12bedebcafbeab4",
            "max": 995526,
            "min": 0,
            "orientation": "horizontal",
            "style": "IPY_MODEL_8404499a4c544b6a8b14b4e483675691",
            "value": 995526
          }
        },
        "b8a29e7edf1c41a292c945030e654e19": {
          "model_module": "@jupyter-widgets/controls",
          "model_name": "HTMLModel",
          "model_module_version": "1.5.0",
          "state": {
            "_dom_classes": [],
            "_model_module": "@jupyter-widgets/controls",
            "_model_module_version": "1.5.0",
            "_model_name": "HTMLModel",
            "_view_count": null,
            "_view_module": "@jupyter-widgets/controls",
            "_view_module_version": "1.5.0",
            "_view_name": "HTMLView",
            "description": "",
            "description_tooltip": null,
            "layout": "IPY_MODEL_8635293277fa47358c197bf98fc2e34c",
            "placeholder": "​",
            "style": "IPY_MODEL_1f0e0bf3a33c4518958beed0cc547425",
            "value": " 996k/996k [00:00&lt;00:00, 17.5MB/s]"
          }
        },
        "364eae25fc2142e38e8a67df7daf33bc": {
          "model_module": "@jupyter-widgets/base",
          "model_name": "LayoutModel",
          "model_module_version": "1.2.0",
          "state": {
            "_model_module": "@jupyter-widgets/base",
            "_model_module_version": "1.2.0",
            "_model_name": "LayoutModel",
            "_view_count": null,
            "_view_module": "@jupyter-widgets/base",
            "_view_module_version": "1.2.0",
            "_view_name": "LayoutView",
            "align_content": null,
            "align_items": null,
            "align_self": null,
            "border": null,
            "bottom": null,
            "display": null,
            "flex": null,
            "flex_flow": null,
            "grid_area": null,
            "grid_auto_columns": null,
            "grid_auto_flow": null,
            "grid_auto_rows": null,
            "grid_column": null,
            "grid_gap": null,
            "grid_row": null,
            "grid_template_areas": null,
            "grid_template_columns": null,
            "grid_template_rows": null,
            "height": null,
            "justify_content": null,
            "justify_items": null,
            "left": null,
            "margin": null,
            "max_height": null,
            "max_width": null,
            "min_height": null,
            "min_width": null,
            "object_fit": null,
            "object_position": null,
            "order": null,
            "overflow": null,
            "overflow_x": null,
            "overflow_y": null,
            "padding": null,
            "right": null,
            "top": null,
            "visibility": null,
            "width": null
          }
        },
        "3ddb2418b34340adac73148a96e31b20": {
          "model_module": "@jupyter-widgets/base",
          "model_name": "LayoutModel",
          "model_module_version": "1.2.0",
          "state": {
            "_model_module": "@jupyter-widgets/base",
            "_model_module_version": "1.2.0",
            "_model_name": "LayoutModel",
            "_view_count": null,
            "_view_module": "@jupyter-widgets/base",
            "_view_module_version": "1.2.0",
            "_view_name": "LayoutView",
            "align_content": null,
            "align_items": null,
            "align_self": null,
            "border": null,
            "bottom": null,
            "display": null,
            "flex": null,
            "flex_flow": null,
            "grid_area": null,
            "grid_auto_columns": null,
            "grid_auto_flow": null,
            "grid_auto_rows": null,
            "grid_column": null,
            "grid_gap": null,
            "grid_row": null,
            "grid_template_areas": null,
            "grid_template_columns": null,
            "grid_template_rows": null,
            "height": null,
            "justify_content": null,
            "justify_items": null,
            "left": null,
            "margin": null,
            "max_height": null,
            "max_width": null,
            "min_height": null,
            "min_width": null,
            "object_fit": null,
            "object_position": null,
            "order": null,
            "overflow": null,
            "overflow_x": null,
            "overflow_y": null,
            "padding": null,
            "right": null,
            "top": null,
            "visibility": null,
            "width": null
          }
        },
        "6838c1888b4e46d4a937fe248cd55f99": {
          "model_module": "@jupyter-widgets/controls",
          "model_name": "DescriptionStyleModel",
          "model_module_version": "1.5.0",
          "state": {
            "_model_module": "@jupyter-widgets/controls",
            "_model_module_version": "1.5.0",
            "_model_name": "DescriptionStyleModel",
            "_view_count": null,
            "_view_module": "@jupyter-widgets/base",
            "_view_module_version": "1.2.0",
            "_view_name": "StyleView",
            "description_width": ""
          }
        },
        "6610fd2f59864553b12bedebcafbeab4": {
          "model_module": "@jupyter-widgets/base",
          "model_name": "LayoutModel",
          "model_module_version": "1.2.0",
          "state": {
            "_model_module": "@jupyter-widgets/base",
            "_model_module_version": "1.2.0",
            "_model_name": "LayoutModel",
            "_view_count": null,
            "_view_module": "@jupyter-widgets/base",
            "_view_module_version": "1.2.0",
            "_view_name": "LayoutView",
            "align_content": null,
            "align_items": null,
            "align_self": null,
            "border": null,
            "bottom": null,
            "display": null,
            "flex": null,
            "flex_flow": null,
            "grid_area": null,
            "grid_auto_columns": null,
            "grid_auto_flow": null,
            "grid_auto_rows": null,
            "grid_column": null,
            "grid_gap": null,
            "grid_row": null,
            "grid_template_areas": null,
            "grid_template_columns": null,
            "grid_template_rows": null,
            "height": null,
            "justify_content": null,
            "justify_items": null,
            "left": null,
            "margin": null,
            "max_height": null,
            "max_width": null,
            "min_height": null,
            "min_width": null,
            "object_fit": null,
            "object_position": null,
            "order": null,
            "overflow": null,
            "overflow_x": null,
            "overflow_y": null,
            "padding": null,
            "right": null,
            "top": null,
            "visibility": null,
            "width": null
          }
        },
        "8404499a4c544b6a8b14b4e483675691": {
          "model_module": "@jupyter-widgets/controls",
          "model_name": "ProgressStyleModel",
          "model_module_version": "1.5.0",
          "state": {
            "_model_module": "@jupyter-widgets/controls",
            "_model_module_version": "1.5.0",
            "_model_name": "ProgressStyleModel",
            "_view_count": null,
            "_view_module": "@jupyter-widgets/base",
            "_view_module_version": "1.2.0",
            "_view_name": "StyleView",
            "bar_color": null,
            "description_width": ""
          }
        },
        "8635293277fa47358c197bf98fc2e34c": {
          "model_module": "@jupyter-widgets/base",
          "model_name": "LayoutModel",
          "model_module_version": "1.2.0",
          "state": {
            "_model_module": "@jupyter-widgets/base",
            "_model_module_version": "1.2.0",
            "_model_name": "LayoutModel",
            "_view_count": null,
            "_view_module": "@jupyter-widgets/base",
            "_view_module_version": "1.2.0",
            "_view_name": "LayoutView",
            "align_content": null,
            "align_items": null,
            "align_self": null,
            "border": null,
            "bottom": null,
            "display": null,
            "flex": null,
            "flex_flow": null,
            "grid_area": null,
            "grid_auto_columns": null,
            "grid_auto_flow": null,
            "grid_auto_rows": null,
            "grid_column": null,
            "grid_gap": null,
            "grid_row": null,
            "grid_template_areas": null,
            "grid_template_columns": null,
            "grid_template_rows": null,
            "height": null,
            "justify_content": null,
            "justify_items": null,
            "left": null,
            "margin": null,
            "max_height": null,
            "max_width": null,
            "min_height": null,
            "min_width": null,
            "object_fit": null,
            "object_position": null,
            "order": null,
            "overflow": null,
            "overflow_x": null,
            "overflow_y": null,
            "padding": null,
            "right": null,
            "top": null,
            "visibility": null,
            "width": null
          }
        },
        "1f0e0bf3a33c4518958beed0cc547425": {
          "model_module": "@jupyter-widgets/controls",
          "model_name": "DescriptionStyleModel",
          "model_module_version": "1.5.0",
          "state": {
            "_model_module": "@jupyter-widgets/controls",
            "_model_module_version": "1.5.0",
            "_model_name": "DescriptionStyleModel",
            "_view_count": null,
            "_view_module": "@jupyter-widgets/base",
            "_view_module_version": "1.2.0",
            "_view_name": "StyleView",
            "description_width": ""
          }
        },
        "97e62e6604e34ce09bd0ceb6702fbc47": {
          "model_module": "@jupyter-widgets/controls",
          "model_name": "HBoxModel",
          "model_module_version": "1.5.0",
          "state": {
            "_dom_classes": [],
            "_model_module": "@jupyter-widgets/controls",
            "_model_module_version": "1.5.0",
            "_model_name": "HBoxModel",
            "_view_count": null,
            "_view_module": "@jupyter-widgets/controls",
            "_view_module_version": "1.5.0",
            "_view_name": "HBoxView",
            "box_style": "",
            "children": [
              "IPY_MODEL_f4e1453646f94ce187d6f5762025f881",
              "IPY_MODEL_430c19bc59494f84b9160355ef7fa19b",
              "IPY_MODEL_8790503c1e1942b8a400601b69a85b7d"
            ],
            "layout": "IPY_MODEL_9ec2534ce37548e8ad77e098802cbfc7"
          }
        },
        "f4e1453646f94ce187d6f5762025f881": {
          "model_module": "@jupyter-widgets/controls",
          "model_name": "HTMLModel",
          "model_module_version": "1.5.0",
          "state": {
            "_dom_classes": [],
            "_model_module": "@jupyter-widgets/controls",
            "_model_module_version": "1.5.0",
            "_model_name": "HTMLModel",
            "_view_count": null,
            "_view_module": "@jupyter-widgets/controls",
            "_view_module_version": "1.5.0",
            "_view_name": "HTMLView",
            "description": "",
            "description_tooltip": null,
            "layout": "IPY_MODEL_3e8d92ab6fc2451b8b49335e4d0ae8f8",
            "placeholder": "​",
            "style": "IPY_MODEL_c674b3114edc430a9393d5a14a056190",
            "value": "tokenizer.json: 100%"
          }
        },
        "430c19bc59494f84b9160355ef7fa19b": {
          "model_module": "@jupyter-widgets/controls",
          "model_name": "FloatProgressModel",
          "model_module_version": "1.5.0",
          "state": {
            "_dom_classes": [],
            "_model_module": "@jupyter-widgets/controls",
            "_model_module_version": "1.5.0",
            "_model_name": "FloatProgressModel",
            "_view_count": null,
            "_view_module": "@jupyter-widgets/controls",
            "_view_module_version": "1.5.0",
            "_view_name": "ProgressView",
            "bar_style": "success",
            "description": "",
            "description_tooltip": null,
            "layout": "IPY_MODEL_5e2f4e17aed5416984db1a2771fe2095",
            "max": 1961828,
            "min": 0,
            "orientation": "horizontal",
            "style": "IPY_MODEL_88135892580542d0a1a1bdc83d61de7f",
            "value": 1961828
          }
        },
        "8790503c1e1942b8a400601b69a85b7d": {
          "model_module": "@jupyter-widgets/controls",
          "model_name": "HTMLModel",
          "model_module_version": "1.5.0",
          "state": {
            "_dom_classes": [],
            "_model_module": "@jupyter-widgets/controls",
            "_model_module_version": "1.5.0",
            "_model_name": "HTMLModel",
            "_view_count": null,
            "_view_module": "@jupyter-widgets/controls",
            "_view_module_version": "1.5.0",
            "_view_name": "HTMLView",
            "description": "",
            "description_tooltip": null,
            "layout": "IPY_MODEL_46de5a18d1a84b5abf4f6ca440ce1e26",
            "placeholder": "​",
            "style": "IPY_MODEL_40db5b4416d84ca482fd8c8dc9cf4268",
            "value": " 1.96M/1.96M [00:00&lt;00:00, 46.8MB/s]"
          }
        },
        "9ec2534ce37548e8ad77e098802cbfc7": {
          "model_module": "@jupyter-widgets/base",
          "model_name": "LayoutModel",
          "model_module_version": "1.2.0",
          "state": {
            "_model_module": "@jupyter-widgets/base",
            "_model_module_version": "1.2.0",
            "_model_name": "LayoutModel",
            "_view_count": null,
            "_view_module": "@jupyter-widgets/base",
            "_view_module_version": "1.2.0",
            "_view_name": "LayoutView",
            "align_content": null,
            "align_items": null,
            "align_self": null,
            "border": null,
            "bottom": null,
            "display": null,
            "flex": null,
            "flex_flow": null,
            "grid_area": null,
            "grid_auto_columns": null,
            "grid_auto_flow": null,
            "grid_auto_rows": null,
            "grid_column": null,
            "grid_gap": null,
            "grid_row": null,
            "grid_template_areas": null,
            "grid_template_columns": null,
            "grid_template_rows": null,
            "height": null,
            "justify_content": null,
            "justify_items": null,
            "left": null,
            "margin": null,
            "max_height": null,
            "max_width": null,
            "min_height": null,
            "min_width": null,
            "object_fit": null,
            "object_position": null,
            "order": null,
            "overflow": null,
            "overflow_x": null,
            "overflow_y": null,
            "padding": null,
            "right": null,
            "top": null,
            "visibility": null,
            "width": null
          }
        },
        "3e8d92ab6fc2451b8b49335e4d0ae8f8": {
          "model_module": "@jupyter-widgets/base",
          "model_name": "LayoutModel",
          "model_module_version": "1.2.0",
          "state": {
            "_model_module": "@jupyter-widgets/base",
            "_model_module_version": "1.2.0",
            "_model_name": "LayoutModel",
            "_view_count": null,
            "_view_module": "@jupyter-widgets/base",
            "_view_module_version": "1.2.0",
            "_view_name": "LayoutView",
            "align_content": null,
            "align_items": null,
            "align_self": null,
            "border": null,
            "bottom": null,
            "display": null,
            "flex": null,
            "flex_flow": null,
            "grid_area": null,
            "grid_auto_columns": null,
            "grid_auto_flow": null,
            "grid_auto_rows": null,
            "grid_column": null,
            "grid_gap": null,
            "grid_row": null,
            "grid_template_areas": null,
            "grid_template_columns": null,
            "grid_template_rows": null,
            "height": null,
            "justify_content": null,
            "justify_items": null,
            "left": null,
            "margin": null,
            "max_height": null,
            "max_width": null,
            "min_height": null,
            "min_width": null,
            "object_fit": null,
            "object_position": null,
            "order": null,
            "overflow": null,
            "overflow_x": null,
            "overflow_y": null,
            "padding": null,
            "right": null,
            "top": null,
            "visibility": null,
            "width": null
          }
        },
        "c674b3114edc430a9393d5a14a056190": {
          "model_module": "@jupyter-widgets/controls",
          "model_name": "DescriptionStyleModel",
          "model_module_version": "1.5.0",
          "state": {
            "_model_module": "@jupyter-widgets/controls",
            "_model_module_version": "1.5.0",
            "_model_name": "DescriptionStyleModel",
            "_view_count": null,
            "_view_module": "@jupyter-widgets/base",
            "_view_module_version": "1.2.0",
            "_view_name": "StyleView",
            "description_width": ""
          }
        },
        "5e2f4e17aed5416984db1a2771fe2095": {
          "model_module": "@jupyter-widgets/base",
          "model_name": "LayoutModel",
          "model_module_version": "1.2.0",
          "state": {
            "_model_module": "@jupyter-widgets/base",
            "_model_module_version": "1.2.0",
            "_model_name": "LayoutModel",
            "_view_count": null,
            "_view_module": "@jupyter-widgets/base",
            "_view_module_version": "1.2.0",
            "_view_name": "LayoutView",
            "align_content": null,
            "align_items": null,
            "align_self": null,
            "border": null,
            "bottom": null,
            "display": null,
            "flex": null,
            "flex_flow": null,
            "grid_area": null,
            "grid_auto_columns": null,
            "grid_auto_flow": null,
            "grid_auto_rows": null,
            "grid_column": null,
            "grid_gap": null,
            "grid_row": null,
            "grid_template_areas": null,
            "grid_template_columns": null,
            "grid_template_rows": null,
            "height": null,
            "justify_content": null,
            "justify_items": null,
            "left": null,
            "margin": null,
            "max_height": null,
            "max_width": null,
            "min_height": null,
            "min_width": null,
            "object_fit": null,
            "object_position": null,
            "order": null,
            "overflow": null,
            "overflow_x": null,
            "overflow_y": null,
            "padding": null,
            "right": null,
            "top": null,
            "visibility": null,
            "width": null
          }
        },
        "88135892580542d0a1a1bdc83d61de7f": {
          "model_module": "@jupyter-widgets/controls",
          "model_name": "ProgressStyleModel",
          "model_module_version": "1.5.0",
          "state": {
            "_model_module": "@jupyter-widgets/controls",
            "_model_module_version": "1.5.0",
            "_model_name": "ProgressStyleModel",
            "_view_count": null,
            "_view_module": "@jupyter-widgets/base",
            "_view_module_version": "1.2.0",
            "_view_name": "StyleView",
            "bar_color": null,
            "description_width": ""
          }
        },
        "46de5a18d1a84b5abf4f6ca440ce1e26": {
          "model_module": "@jupyter-widgets/base",
          "model_name": "LayoutModel",
          "model_module_version": "1.2.0",
          "state": {
            "_model_module": "@jupyter-widgets/base",
            "_model_module_version": "1.2.0",
            "_model_name": "LayoutModel",
            "_view_count": null,
            "_view_module": "@jupyter-widgets/base",
            "_view_module_version": "1.2.0",
            "_view_name": "LayoutView",
            "align_content": null,
            "align_items": null,
            "align_self": null,
            "border": null,
            "bottom": null,
            "display": null,
            "flex": null,
            "flex_flow": null,
            "grid_area": null,
            "grid_auto_columns": null,
            "grid_auto_flow": null,
            "grid_auto_rows": null,
            "grid_column": null,
            "grid_gap": null,
            "grid_row": null,
            "grid_template_areas": null,
            "grid_template_columns": null,
            "grid_template_rows": null,
            "height": null,
            "justify_content": null,
            "justify_items": null,
            "left": null,
            "margin": null,
            "max_height": null,
            "max_width": null,
            "min_height": null,
            "min_width": null,
            "object_fit": null,
            "object_position": null,
            "order": null,
            "overflow": null,
            "overflow_x": null,
            "overflow_y": null,
            "padding": null,
            "right": null,
            "top": null,
            "visibility": null,
            "width": null
          }
        },
        "40db5b4416d84ca482fd8c8dc9cf4268": {
          "model_module": "@jupyter-widgets/controls",
          "model_name": "DescriptionStyleModel",
          "model_module_version": "1.5.0",
          "state": {
            "_model_module": "@jupyter-widgets/controls",
            "_model_module_version": "1.5.0",
            "_model_name": "DescriptionStyleModel",
            "_view_count": null,
            "_view_module": "@jupyter-widgets/base",
            "_view_module_version": "1.2.0",
            "_view_name": "StyleView",
            "description_width": ""
          }
        }
      }
    },
    "accelerator": "GPU"
  },
  "cells": [
    {
      "cell_type": "markdown",
      "metadata": {
        "id": "view-in-github",
        "colab_type": "text"
      },
      "source": [
        "<a href=\"https://colab.research.google.com/github/sethcoast/attention/blob/main/attention_is_all_you_need.ipynb\" target=\"_parent\"><img src=\"https://colab.research.google.com/assets/colab-badge.svg\" alt=\"Open In Colab\"/></a>"
      ]
    },
    {
      "cell_type": "code",
      "execution_count": 1,
      "metadata": {
        "colab": {
          "base_uri": "https://localhost:8080/"
        },
        "id": "NU3rAkqxrIMF",
        "outputId": "e7336bfe-068c-427b-f910-ef430edcca4d"
      },
      "outputs": [
        {
          "output_type": "stream",
          "name": "stdout",
          "text": [
            "Drive already mounted at /content/drive; to attempt to forcibly remount, call drive.mount(\"/content/drive\", force_remount=True).\n"
          ]
        }
      ],
      "source": [
        "from google.colab import drive\n",
        "# drive.mount('/content/drive', force_remount=True)\n",
        "drive.mount('/content/drive')"
      ]
    },
    {
      "cell_type": "code",
      "source": [
        "# what does the architecture look like?\n",
        "\n",
        "# How has Pytorch changed in the last little while?\n",
        "\n",
        "# What do I need for all of this?\n",
        "# 1. Training data\n",
        "# 2. Model\n",
        "# 3. Training loop\n",
        "\n",
        "# This will likely be done in a few separate phases\n",
        "# 1. Build and validate the model architecture\n",
        "        # training data?\n",
        "# 2. Set up training/snapshotting system in GCP\n"
      ],
      "metadata": {
        "id": "t6UGh4EIro9O"
      },
      "execution_count": 2,
      "outputs": []
    },
    {
      "cell_type": "code",
      "source": [
        "# Import the shit\n",
        "import torch\n",
        "import torch.nn as nn\n",
        "import torch.optim as optim\n",
        "import torch.utils.data\n",
        "import torchvision\n",
        "import torchvision.transforms\n",
        "\n",
        "import numpy as np\n",
        "import matplotlib.pyplot as plt\n"
      ],
      "metadata": {
        "id": "h_zJk3Ontz9e"
      },
      "execution_count": 3,
      "outputs": []
    },
    {
      "cell_type": "markdown",
      "source": [
        "# Data"
      ],
      "metadata": {
        "id": "APcVOkgNcuuI"
      }
    },
    {
      "cell_type": "code",
      "source": [],
      "metadata": {
        "id": "cUCov2H4cuPr"
      },
      "execution_count": 3,
      "outputs": []
    },
    {
      "cell_type": "markdown",
      "source": [
        "# Model"
      ],
      "metadata": {
        "id": "e2DEwRSH2VwY"
      }
    },
    {
      "cell_type": "code",
      "source": [
        "# Import the shit\n",
        "import torch\n",
        "import torch.nn as nn\n",
        "import torch.utils.data\n",
        "\n",
        "\n",
        "# Feed forward block (sublayer)\n",
        "class FeedForwardBlock(nn.Module):\n",
        "    def __init__(self, dmodel):\n",
        "        super(FeedForwardBlock, self).__init__()\n",
        "        # Define the feed forward network layers\n",
        "        self.fc1 = nn.Linear(dmodel, dmodel)\n",
        "        self.fc2 = nn.Linear(dmodel, dmodel)\n",
        "        self.dropout = nn.Dropout(0.1)\n",
        "        self.relu = nn.ReLU(inplace=True) # inplace = True to save memory\n",
        "\n",
        "    def forward(self, x):\n",
        "        x = self.fc1(x)\n",
        "        x = self.relu(x)\n",
        "        x = self.fc2(x)\n",
        "        x = self.dropout(x)\n",
        "\n",
        "        return x\n",
        "\n",
        "# Multihead Attention block (Sublayer)\n",
        "class MultiheadAttentionBlock(nn.Module):\n",
        "    def __init__(self, dmodel, mask=False):\n",
        "        super(MultiheadAttentionBlock, self).__init__()\n",
        "        self.mhAtt = nn.MultiheadAttention(dmodel, 8, dropout=0.1, batch_first=True)\n",
        "        # look-ahead mask\n",
        "        # self.att_mask = self.create_look_ahead_mask()\n",
        "\n",
        "    def forward(self, Q, K, V):\n",
        "        # print(Q.shape, K.shape, V.shape)\n",
        "        x = self.mhAtt(query=Q, key=K, value=V, need_weights=False)\n",
        "        return x[0]\n",
        "\n",
        "    def create_look_ahead_mask(self, size):\n",
        "        # todo: double check that this is correct\n",
        "        mask = torch.triu(torch.ones(size, size), diagonal=1)\n",
        "        mask = mask.masked_fill(mask == 1, float('-inf'))\n",
        "        return mask\n",
        "\n",
        "# define the encoder model\n",
        "class EncoderLayer(nn.Module):\n",
        "    def __init__(self, dmodel):\n",
        "        super(EncoderLayer, self).__init__()\n",
        "        # Define the attention layer\n",
        "        self.mhaBlock = MultiheadAttentionBlock(dmodel)\n",
        "        self.ff = FeedForwardBlock(dmodel)\n",
        "        self.norm = nn.LayerNorm(dmodel)\n",
        "\n",
        "\n",
        "    def forward(self, x):\n",
        "        # Multi Head Attention Sublayer()\n",
        "        out = self.mhaBlock(x, x, x)\n",
        "        out += x # residual connection\n",
        "        out = self.norm(out) # normalization\n",
        "\n",
        "        # Feed Forward Sublayer()\n",
        "        out2 = self.ff(out)\n",
        "        out2 += out # residual connection\n",
        "        out2 = self.norm(out2) # normalization\n",
        "\n",
        "        return out2\n",
        "\n",
        "# Decoder Layer\n",
        "class DecoderLayer(nn.Module):\n",
        "    def __init__(self, dmodel):\n",
        "        super(DecoderLayer, self).__init__()\n",
        "        self.mhaBlock1 = MultiheadAttentionBlock(dmodel, mask=True)\n",
        "        self.ffBlock = FeedForwardBlock(dmodel)\n",
        "        self.mhaBlock2 = MultiheadAttentionBlock(dmodel)\n",
        "        self.norm = nn.LayerNorm(dmodel)\n",
        "\n",
        "    def forward(self, in_encoding, out_embedding):\n",
        "        ## Multi Head Attention Sublayer 1 (masked)\n",
        "        # todo: padding mask?\n",
        "        decoded = self.mhaBlock1(out_embedding, out_embedding, out_embedding)\n",
        "        decoded += out_embedding # residual connection\n",
        "        decoded = self.norm(decoded) # normalization\n",
        "        ## Multi Head Attention Sublayer 2\n",
        "        decoded2 = self.mhaBlock1(decoded, in_encoding, in_encoding)\n",
        "        decoded2 += decoded # residual connection\n",
        "        decoded2 = self.norm(decoded2) # normalization\n",
        "        ## Feed Forward Sublayer\n",
        "        decoded3 = self.ffBlock(decoded2)\n",
        "        decoded3 += decoded2 # residual connection\n",
        "        decoded3 = self.norm(decoded3) # normalization\n",
        "\n",
        "        return decoded3\n",
        "\n",
        "\n",
        "class TransformerNet(nn.Module):\n",
        "    # numLayers = 6 by default to mimic the parameters of the paper\n",
        "    def __init__(self, vocab_size, dmodel, seq_len, numLayers = 6):\n",
        "        super(TransformerNet, self).__init__()\n",
        "        # todo: define the positional encoding stuff?\n",
        "        # Embedding layer\n",
        "        self.embedding_layer = nn.Embedding(vocab_size, dmodel)\n",
        "        # Instantiate encoder/decoder layers\n",
        "        self.encoder_layers = nn.ModuleList()\n",
        "        for _ in range(numLayers):\n",
        "            self.encoder_layers.append(EncoderLayer(dmodel))\n",
        "        self.decoder_layers = nn.ModuleList()\n",
        "        for _ in range(numLayers):\n",
        "            self.decoder_layers.append(DecoderLayer(dmodel))\n",
        "        # Output layer\n",
        "        self.last = nn.Embedding(vocab_size, dmodel)\n",
        "        # self.last.weight = torch.nn.Parameter(self.embedding_layer.weight.t()) # todo: double check this\n",
        "        self.softmax = nn.Softmax(dim=2) # todo: expand dimensionality to get like a 1-hot representation\n",
        "\n",
        "    # todo: maybe rewrite this eventually\n",
        "    def forward(self, in_seq, out_seq):\n",
        "        # todo: Embedding layers (multiply weights by √dmodel (v2))\n",
        "        # todo: Contatenate input w/ positional encoding (v2)\n",
        "        # print(\"in_seq.shape: \", in_seq.shape)\n",
        "        # Encoder stack\n",
        "        in_encode = self.embedding_layer(in_seq) # shape = (batch_size, seq_len, dmodel)\n",
        "        for layer in self.encoder_layers:\n",
        "            in_encode = layer(in_encode)\n",
        "        # print(\"in_encode.shape: \", in_encode.shape)\n",
        "        # Decoder stack\n",
        "        out_encode = self.embedding_layer(out_seq)\n",
        "        for layer in self.decoder_layers:\n",
        "            out_encode = layer(in_encode, out_encode)\n",
        "        # print(\"out_encode.shape: \", out_encode.shape)\n",
        "        # Output layer\n",
        "        # Output layer: Reuse embedding weights\n",
        "        out = torch.matmul(out_encode, self.embedding_layer.weight.transpose(0, 1))\n",
        "\n",
        "        return out\n",
        "\n",
        "    def translate(self, src, max_len=50):\n",
        "        self.eval()  # Set the model to evaluation mode\n",
        "        src = torch.tensor(src).unsqueeze(0)  # Source sentence tensor\n",
        "\n",
        "        # out = self.softmax(logits)\n",
        "        # print(out.shape)\n",
        "\n",
        "        # Grab the predicted token\n",
        "        # out = torch.argmax(out, dim=1)\n",
        "\n"
      ],
      "metadata": {
        "id": "Wr8h-EMa2YL_"
      },
      "execution_count": 4,
      "outputs": []
    },
    {
      "cell_type": "markdown",
      "source": [
        "# Dataset"
      ],
      "metadata": {
        "id": "LrN07RK33vw9"
      }
    },
    {
      "cell_type": "code",
      "source": [
        "import torch\n",
        "import torch.nn as nn\n",
        "import torch.optim as optim\n",
        "import torch.utils.data\n",
        "import torchtext\n",
        "import torchvision\n",
        "import torchvision.transforms\n",
        "import json\n",
        "\n",
        "from torch.nn.utils.rnn import pad_sequence\n",
        "from torch.utils.data import Dataset, DataLoader"
      ],
      "metadata": {
        "id": "srSbUJyD32Xh"
      },
      "execution_count": 5,
      "outputs": []
    },
    {
      "cell_type": "code",
      "source": [
        "from transformers import AutoTokenizer\n",
        "\n",
        "# Load a pre-trained multilingual tokenizer\n",
        "tokenizer = AutoTokenizer.from_pretrained('bert-base-multilingual-cased')"
      ],
      "metadata": {
        "colab": {
          "base_uri": "https://localhost:8080/",
          "height": 272,
          "referenced_widgets": [
            "7fe9dbe544734295907c674a9a482800",
            "7c33590916114927bf5545cb8034f9a5",
            "fc365b06d5574b2cba1766d2a4f5cb64",
            "1b794a6614ad4ec39414c488e549fc4a",
            "4bdba35103bf4d0f856b2ac94ac568eb",
            "103054e9f69f4de098b0782bd2aedd1c",
            "95bb49199a2f40bab9bf7d44f21c2b37",
            "fa321a9606c3472ab5cfdf343d6e825d",
            "86b8acbc559e469ebe42a3520f3044d6",
            "29d5161068cb478dba71ee6c5bd771ce",
            "ab2b672c1ea645fe92944a8b992a6b6a",
            "18647c9457a14d7ab1736a81384eefbd",
            "e4bc9fa603a247aabcaea8de2b5896fc",
            "626ed2ea02434c6795369490284817d6",
            "0168d293c86941fa91876daeeb50cf43",
            "b708c758a1cd48f2acff6453563be755",
            "d39b6b50b67440b6afa244eb4923ad37",
            "89aab4e09af9449e85201f6fecde2675",
            "2a03ac1f22d74f71825a8ab4e44bd8f3",
            "d51c408909c644588515ed430ad66b9e",
            "5bd1dc95d1374ddfafcbc315ae828579",
            "2266b3200ec1411d8504da12de588865",
            "dc3e3936cda54bc78ca6fce0215ecd0e",
            "d574deb3df9e4dc491b27cd59259d5f5",
            "1c90545864f846d5ae204cd73b89b0a8",
            "b8a29e7edf1c41a292c945030e654e19",
            "364eae25fc2142e38e8a67df7daf33bc",
            "3ddb2418b34340adac73148a96e31b20",
            "6838c1888b4e46d4a937fe248cd55f99",
            "6610fd2f59864553b12bedebcafbeab4",
            "8404499a4c544b6a8b14b4e483675691",
            "8635293277fa47358c197bf98fc2e34c",
            "1f0e0bf3a33c4518958beed0cc547425",
            "97e62e6604e34ce09bd0ceb6702fbc47",
            "f4e1453646f94ce187d6f5762025f881",
            "430c19bc59494f84b9160355ef7fa19b",
            "8790503c1e1942b8a400601b69a85b7d",
            "9ec2534ce37548e8ad77e098802cbfc7",
            "3e8d92ab6fc2451b8b49335e4d0ae8f8",
            "c674b3114edc430a9393d5a14a056190",
            "5e2f4e17aed5416984db1a2771fe2095",
            "88135892580542d0a1a1bdc83d61de7f",
            "46de5a18d1a84b5abf4f6ca440ce1e26",
            "40db5b4416d84ca482fd8c8dc9cf4268"
          ]
        },
        "id": "aIlBS7T-z2HG",
        "outputId": "4d7d5caa-4119-4693-d082-69f1b586456a"
      },
      "execution_count": 6,
      "outputs": [
        {
          "output_type": "stream",
          "name": "stderr",
          "text": [
            "/usr/local/lib/python3.10/dist-packages/huggingface_hub/utils/_token.py:88: UserWarning: \n",
            "The secret `HF_TOKEN` does not exist in your Colab secrets.\n",
            "To authenticate with the Hugging Face Hub, create a token in your settings tab (https://huggingface.co/settings/tokens), set it as secret in your Google Colab and restart your session.\n",
            "You will be able to reuse this secret in all of your notebooks.\n",
            "Please note that authentication is recommended but still optional to access public models or datasets.\n",
            "  warnings.warn(\n"
          ]
        },
        {
          "output_type": "display_data",
          "data": {
            "text/plain": [
              "tokenizer_config.json:   0%|          | 0.00/49.0 [00:00<?, ?B/s]"
            ],
            "application/vnd.jupyter.widget-view+json": {
              "version_major": 2,
              "version_minor": 0,
              "model_id": "7fe9dbe544734295907c674a9a482800"
            }
          },
          "metadata": {}
        },
        {
          "output_type": "display_data",
          "data": {
            "text/plain": [
              "config.json:   0%|          | 0.00/625 [00:00<?, ?B/s]"
            ],
            "application/vnd.jupyter.widget-view+json": {
              "version_major": 2,
              "version_minor": 0,
              "model_id": "18647c9457a14d7ab1736a81384eefbd"
            }
          },
          "metadata": {}
        },
        {
          "output_type": "display_data",
          "data": {
            "text/plain": [
              "vocab.txt:   0%|          | 0.00/996k [00:00<?, ?B/s]"
            ],
            "application/vnd.jupyter.widget-view+json": {
              "version_major": 2,
              "version_minor": 0,
              "model_id": "dc3e3936cda54bc78ca6fce0215ecd0e"
            }
          },
          "metadata": {}
        },
        {
          "output_type": "display_data",
          "data": {
            "text/plain": [
              "tokenizer.json:   0%|          | 0.00/1.96M [00:00<?, ?B/s]"
            ],
            "application/vnd.jupyter.widget-view+json": {
              "version_major": 2,
              "version_minor": 0,
              "model_id": "97e62e6604e34ce09bd0ceb6702fbc47"
            }
          },
          "metadata": {}
        }
      ]
    },
    {
      "cell_type": "code",
      "source": [
        "# Tokenize a sentence\n",
        "english_sentence = \"This is an example sentence.\"\n",
        "japanese_sentence = \"これは例文です。\"\n",
        "\n",
        "# Tokenizing the sentences\n",
        "tokenized_english = tokenizer.tokenize(english_sentence)\n",
        "tokenized_japanese = tokenizer.tokenize(japanese_sentence)\n",
        "\n",
        "print(\"Tokenized English:\", tokenized_english)\n",
        "print(\"Tokenized Japanese:\", tokenized_japanese)"
      ],
      "metadata": {
        "colab": {
          "base_uri": "https://localhost:8080/"
        },
        "id": "l7hSw1tCz5GL",
        "outputId": "ad729d4a-8144-4e80-fbdb-2b47cd7a78db"
      },
      "execution_count": 7,
      "outputs": [
        {
          "output_type": "stream",
          "name": "stdout",
          "text": [
            "Tokenized English: ['This', 'is', 'an', 'example', 'sentence', '.']\n",
            "Tokenized Japanese: ['これは', '例', '文', 'で', '##す', '。']\n"
          ]
        }
      ]
    },
    {
      "cell_type": "code",
      "source": [
        "class EnJpTranslationDataset(Dataset):\n",
        "    def __init__(self, en_sentences, jp_sentences, tokenizer, max_length=128):\n",
        "        self.en_sentences = en_sentences\n",
        "        self.jp_sentences = jp_sentences\n",
        "        self.tokenizer = tokenizer\n",
        "        self.max_length = max_length\n",
        "\n",
        "    def __len__(self):\n",
        "        return len(self.en_sentences)\n",
        "\n",
        "    def __getitem__(self, idx):\n",
        "        # Get the English and Japanese sentences\n",
        "        en_s = self.en_sentences[idx]\n",
        "        jp_s = self.jp_sentences[idx]\n",
        "\n",
        "        # Encode the English sentence (source)\n",
        "        source_encoded = self.tokenizer.encode_plus(\n",
        "            en_s,\n",
        "            max_length=self.max_length,\n",
        "            padding='max_length',\n",
        "            truncation=True,\n",
        "            return_tensors='pt'\n",
        "        )\n",
        "\n",
        "        # Encode the Japanese sentence (target)\n",
        "        # Note: Depending on your model, you might need to add special tokens manually\n",
        "        target_encoded = self.tokenizer.encode_plus(\n",
        "            jp_s,\n",
        "            max_length=self.max_length,\n",
        "            padding='max_length',\n",
        "            truncation=True,\n",
        "            return_tensors='pt'\n",
        "        )\n",
        "\n",
        "        # Return source and target as a dictionary\n",
        "        # Flatten the tensors to remove unnecessary batch dimension added by return_tensors='pt'\n",
        "        return {\n",
        "            'source_input_ids': source_encoded['input_ids'].squeeze(0),\n",
        "            'source_attention_mask': source_encoded['attention_mask'].squeeze(0),\n",
        "            'target_input_ids': target_encoded['input_ids'].squeeze(0),\n",
        "            'target_attention_mask': target_encoded['attention_mask'].squeeze(0),\n",
        "        }\n"
      ],
      "metadata": {
        "id": "sgnzfP2n3vg7"
      },
      "execution_count": 8,
      "outputs": []
    },
    {
      "cell_type": "markdown",
      "source": [
        "# Train Loop"
      ],
      "metadata": {
        "id": "yac5-8T03GuX"
      }
    },
    {
      "cell_type": "markdown",
      "source": [
        "## Set up Data"
      ],
      "metadata": {
        "id": "izTJs41NNnmN"
      }
    },
    {
      "cell_type": "code",
      "source": [
        "from tqdm import tqdm"
      ],
      "metadata": {
        "id": "J5tQ_Kc1XIYk"
      },
      "execution_count": 9,
      "outputs": []
    },
    {
      "cell_type": "code",
      "source": [
        "# Set seeds\n",
        "torch.manual_seed(0)\n",
        "torch.backends.cudnn.deterministic = True\n",
        "torch.backends.cudnn.benchmark = False\n"
      ],
      "metadata": {
        "id": "al8ZH_PWVHur"
      },
      "execution_count": 10,
      "outputs": []
    },
    {
      "cell_type": "code",
      "source": [
        "# Data loading\n",
        "drive_dir = 'drive/MyDrive/'\n",
        "data_dir = 'drive/MyDrive/data/ja-en/split/'\n",
        "file_path = data_dir + 'test' # todo: change this when you want to use a different dataset\n",
        "# split english and japanese sentences into separate lists\n",
        "en_sentences, jp_sentences = [], []\n",
        "with open(file_path, 'r', encoding='utf-8') as file:\n",
        "    for i, line in enumerate(file):\n",
        "        en, ja = line.strip().split('\\t')\n",
        "        en_sentences.append(en)\n",
        "        jp_sentences.append(ja)"
      ],
      "metadata": {
        "id": "MAOgMA9n9gWX"
      },
      "execution_count": 11,
      "outputs": []
    },
    {
      "cell_type": "code",
      "source": [
        "train_data = EnJpTranslationDataset(en_sentences, jp_sentences, tokenizer)\n",
        "\n",
        "# Move pytorch dataset into dataloader.\n",
        "train_batch_size = 32\n",
        "train_loader = DataLoader(train_data, batch_size=train_batch_size, shuffle=True)\n",
        "print(f'Created `train_loader` with {len(train_loader)} batches!')"
      ],
      "metadata": {
        "colab": {
          "base_uri": "https://localhost:8080/"
        },
        "id": "CMqOrQDV3n6G",
        "outputId": "32009e7a-bfcf-40c0-863b-9955fbcc7370"
      },
      "execution_count": 12,
      "outputs": [
        {
          "output_type": "stream",
          "name": "stdout",
          "text": [
            "Created `train_loader` with 63 batches!\n"
          ]
        }
      ]
    },
    {
      "cell_type": "code",
      "source": [
        "# train_data[0]"
      ],
      "metadata": {
        "id": "yd3nsvCVAV2R"
      },
      "execution_count": 13,
      "outputs": []
    },
    {
      "cell_type": "markdown",
      "source": [
        "## Set up Model"
      ],
      "metadata": {
        "id": "gF9g-pNBNqS0"
      }
    },
    {
      "cell_type": "code",
      "source": [
        "tokenizer.vocab_size"
      ],
      "metadata": {
        "colab": {
          "base_uri": "https://localhost:8080/"
        },
        "id": "2aoZEE7VV9X-",
        "outputId": "5f691364-723e-4d53-e294-57dc14f87dfd"
      },
      "execution_count": 14,
      "outputs": [
        {
          "output_type": "execute_result",
          "data": {
            "text/plain": [
              "119547"
            ]
          },
          "metadata": {},
          "execution_count": 14
        }
      ]
    },
    {
      "cell_type": "code",
      "source": [
        "# Model, Loss Function, Optimizer\n",
        "dmodel = 512\n",
        "H = 6\n",
        "seq_len = train_data.max_length\n",
        "vocab_size = tokenizer.vocab_size\n",
        "model = TransformerNet(vocab_size, dmodel, seq_len, H)\n",
        "criterion = nn.CrossEntropyLoss()  # todo: I'm pretty sure this is correct, but double check\n",
        "optimizer = optim.Adam(model.parameters(), lr=0.001) # todo: double check paper params\n",
        "\n",
        "# Device configuration\n",
        "device = torch.device('cuda' if torch.cuda.is_available() else 'cpu')\n",
        "model.to(device)\n",
        "print(device)\n"
      ],
      "metadata": {
        "colab": {
          "base_uri": "https://localhost:8080/"
        },
        "id": "J9l2WSQu3F66",
        "outputId": "d40b5ff4-c8bc-4f04-fe76-1e779b84f1fe"
      },
      "execution_count": 15,
      "outputs": [
        {
          "output_type": "stream",
          "name": "stdout",
          "text": [
            "cuda\n"
          ]
        }
      ]
    },
    {
      "cell_type": "code",
      "source": [
        "train_losses = []\n",
        "val_losses = []\n",
        "\n",
        "validation_accs = []\n",
        "accuracies = []"
      ],
      "metadata": {
        "id": "4t8Vf0FO4s0d"
      },
      "execution_count": 16,
      "outputs": []
    },
    {
      "cell_type": "code",
      "source": [
        "# Training Loop\n",
        "num_epochs = 5  # Example number of epochs\n",
        "for epoch in range(num_epochs):\n",
        "    loop = tqdm(total=len(train_loader), position=0, leave=False)\n",
        "    model.train()  # Set the model to training mode\n",
        "    for batch_idx, train_dict in enumerate(train_loader):\n",
        "        source_seq = train_dict['source_input_ids']\n",
        "        target_seq = train_dict['target_input_ids']\n",
        "\n",
        "        source_seq, target_seq = source_seq.to(device), target_seq.to(device)\n",
        "\n",
        "        # Forward pass\n",
        "        outputs = model(source_seq, target_seq)\n",
        "        # print(outputs.shape)\n",
        "        # print(outputs)\n",
        "        # print(target_seq.shape)\n",
        "        # print(target_seq)\n",
        "        # print(outputs[0][0].shape)\n",
        "        # print(outputs[0][0].sum())\n",
        "        # break\n",
        "        outputs = outputs.permute(0, 2, 1)\n",
        "\n",
        "        loss = criterion(outputs, target_seq)\n",
        "\n",
        "        # Backward pass and optimization\n",
        "        optimizer.zero_grad()  # Clear gradients from the previous step\n",
        "        loss.backward()  # Backpropagation\n",
        "        optimizer.step()  # Apply the gradients\n",
        "\n",
        "\n",
        "        # if (batch_idx + 1) % 100 == 0:\n",
        "        #     print(f'Epoch [{epoch+1}/{num_epochs}], Step [{batch_idx+1}/{len(train_loader)}], Loss: {loss.item():.4f}')\n",
        "\n",
        "        # Housekeeping\n",
        "        train_losses.append(loss)\n",
        "        # accuracy = get_raw_accuracy(y_hat, y_truth)\n",
        "        mem = torch.cuda.memory_allocated(0) / 1e9\n",
        "        # accuracies.append(accuracy)\n",
        "        # loop.set_description('epoch:{}, loss:{:.4f}, accuracy:{:.3f}, mem:{:.2f}'.format(epoch, loss, accuracy, mem))\n",
        "        loop.set_description('epoch:{}, loss:{:.4f}, mem:{:.2f}'.format(epoch, loss, mem))\n",
        "        loop.update(1)\n",
        "\n",
        "    # Validation Loop (cute and optimized)\n",
        "    # compute the loss for all x, y in val_loader, then get the mean of those losses\n",
        "    # val = np.mean([criterion(model(x.cuda()), y.cuda().long()).item()\n",
        "    #                 for x, y in test_loader\n",
        "    #                 ])\n",
        "    # val_losses.append((len(train_losses), val))\n",
        "    # print('\\nVal Loss: {:.4f}'.format(val))\n",
        "\n",
        "    # todo: remove accuracy block?\n",
        "    # val_acc = np.mean([get_raw_accuracy(model(x.cuda()), y.cuda().long())\n",
        "    #                 for x, y in test_loader\n",
        "    #                 ])\n",
        "    # validation_accs.append((len(accuracies), val_acc))\n",
        "    # print('\\nVal Loss: {:.4f}, Val Accuracy: {:.3f}'.format(val, val_acc))\n",
        "\n",
        "    loop.close()\n",
        "\n",
        "    # break\n",
        "\n",
        "print(\"Training Complete\")"
      ],
      "metadata": {
        "colab": {
          "base_uri": "https://localhost:8080/"
        },
        "id": "_HX1ViY33PvA",
        "outputId": "fdad16c1-a8bb-43f6-c1e9-70d183513a01"
      },
      "execution_count": 17,
      "outputs": [
        {
          "output_type": "stream",
          "name": "stderr",
          "text": [
            "                                                                               "
          ]
        },
        {
          "output_type": "stream",
          "name": "stdout",
          "text": [
            "Training Complete\n"
          ]
        },
        {
          "output_type": "stream",
          "name": "stderr",
          "text": [
            "\r"
          ]
        }
      ]
    },
    {
      "cell_type": "code",
      "source": [
        "train_losses = [loss.cpu().item() for loss in train_losses]"
      ],
      "metadata": {
        "id": "CyDoAgx6ZoHD"
      },
      "execution_count": 18,
      "outputs": []
    },
    {
      "cell_type": "code",
      "source": [
        "# Show loss curve\n",
        "# validations is a list of tuples, this unzips it into two lists\n",
        "# a, b = zip(*val_losses)\n",
        "plt.plot(train_losses, label='train')\n",
        "# plt.plot(a, b, label='val')\n",
        "plt.legend()\n",
        "plt.show()"
      ],
      "metadata": {
        "colab": {
          "base_uri": "https://localhost:8080/",
          "height": 430
        },
        "id": "y4L7lZihZBRg",
        "outputId": "a3ddf4a7-004b-493a-c705-2309861d42f7"
      },
      "execution_count": 19,
      "outputs": [
        {
          "output_type": "display_data",
          "data": {
            "text/plain": [
              "<Figure size 640x480 with 1 Axes>"
            ],
            "image/png": "[encoded data removed]"
          },
          "metadata": {}
        }
      ]
    },
    {
      "cell_type": "code",
      "source": [
        "# Save the state dictionary\n",
        "model_dir = 'drive/MyDrive/model/'\n",
        "torch.save(model.state_dict(), drive_dir + 'attn.pth')"
      ],
      "metadata": {
        "id": "56UsbW5h4oFx"
      },
      "execution_count": null,
      "outputs": []
    },
    {
      "cell_type": "markdown",
      "source": [
        "# Inference"
      ],
      "metadata": {
        "id": "rPYQwRek_HKA"
      }
    },
    {
      "cell_type": "code",
      "source": [
        "train_data[0]"
      ],
      "metadata": {
        "colab": {
          "base_uri": "https://localhost:8080/"
        },
        "id": "je6nzzvb_WJn",
        "outputId": "de58751b-ff47-445a-9217-55453f72985e"
      },
      "execution_count": null,
      "outputs": [
        {
          "output_type": "execute_result",
          "data": {
            "text/plain": [
              "(tensor([[0., 0., 0.,  ..., 0., 0., 0.]]),\n",
              " tensor([[0., 0., 0.,  ..., 0., 0., 0.],\n",
              "         [0., 0., 0.,  ..., 0., 0., 0.],\n",
              "         [0., 0., 0.,  ..., 0., 0., 0.],\n",
              "         ...,\n",
              "         [0., 0., 0.,  ..., 0., 0., 0.],\n",
              "         [0., 0., 0.,  ..., 0., 0., 0.],\n",
              "         [0., 0., 0.,  ..., 0., 0., 0.]]))"
            ]
          },
          "metadata": {},
          "execution_count": 26
        }
      ]
    },
    {
      "cell_type": "code",
      "source": [
        "# Initialize the model\n",
        "model = TransformerNet(vocab_size, dmodel)\n",
        "\n",
        "# Load the saved state dictionary\n",
        "model.load_state_dict(torch.load(model_dir + 'model.pth'))\n",
        "\n",
        "# Set the model to evaluation mode for inference\n",
        "model.eval()"
      ],
      "metadata": {
        "colab": {
          "base_uri": "https://localhost:8080/"
        },
        "id": "xlNVIDsN7JLz",
        "outputId": "52a14c98-19f7-44d3-e0e0-ca60199d3333"
      },
      "execution_count": null,
      "outputs": [
        {
          "output_type": "execute_result",
          "data": {
            "text/plain": [
              "TransformerNet(\n",
              "  (embedding_layer): Linear(in_features=2000, out_features=512, bias=True)\n",
              "  (encoder_layers): ModuleList(\n",
              "    (0-5): 6 x EncoderLayer(\n",
              "      (mhaBlock): MultiheadAttentionBlock(\n",
              "        (mhAtt): MultiheadAttention(\n",
              "          (out_proj): NonDynamicallyQuantizableLinear(in_features=512, out_features=512, bias=True)\n",
              "        )\n",
              "      )\n",
              "      (ff): FeedForwardBlock(\n",
              "        (fc1): Linear(in_features=512, out_features=512, bias=True)\n",
              "        (fc2): Linear(in_features=512, out_features=512, bias=True)\n",
              "        (dropout): Dropout(p=0.1, inplace=False)\n",
              "        (relu): ReLU(inplace=True)\n",
              "      )\n",
              "      (norm): LayerNorm((512,), eps=1e-05, elementwise_affine=True)\n",
              "    )\n",
              "  )\n",
              "  (decoder_layers): ModuleList(\n",
              "    (0-5): 6 x DecoderLayer(\n",
              "      (mhaBlock1): MultiheadAttentionBlock(\n",
              "        (mhAtt): MultiheadAttention(\n",
              "          (out_proj): NonDynamicallyQuantizableLinear(in_features=512, out_features=512, bias=True)\n",
              "        )\n",
              "      )\n",
              "      (ffBlock): FeedForwardBlock(\n",
              "        (fc1): Linear(in_features=512, out_features=512, bias=True)\n",
              "        (fc2): Linear(in_features=512, out_features=512, bias=True)\n",
              "        (dropout): Dropout(p=0.1, inplace=False)\n",
              "        (relu): ReLU(inplace=True)\n",
              "      )\n",
              "      (mhaBlock2): MultiheadAttentionBlock(\n",
              "        (mhAtt): MultiheadAttention(\n",
              "          (out_proj): NonDynamicallyQuantizableLinear(in_features=512, out_features=512, bias=True)\n",
              "        )\n",
              "      )\n",
              "      (norm): LayerNorm((512,), eps=1e-05, elementwise_affine=True)\n",
              "    )\n",
              "  )\n",
              "  (last): Linear(in_features=512, out_features=2000, bias=True)\n",
              "  (softmax): Softmax(dim=1)\n",
              ")"
            ]
          },
          "metadata": {},
          "execution_count": 25
        }
      ]
    },
    {
      "cell_type": "code",
      "source": [
        "import sentencepiece as spm"
      ],
      "metadata": {
        "id": "1AOZJtvzeJe2"
      },
      "execution_count": null,
      "outputs": []
    },
    {
      "cell_type": "code",
      "source": [
        "model_dir = 'drive/MyDrive/model/'"
      ],
      "metadata": {
        "id": "epp5kHGLeYSf"
      },
      "execution_count": null,
      "outputs": []
    },
    {
      "cell_type": "code",
      "source": [
        "sp_en = spm.SentencePieceProcessor(model_file= model_dir + 'en_bpe.model')\n",
        "sp_jp = spm.SentencePieceProcessor(model_file= model_dir + 'jp_bpe.model')\n",
        "\n"
      ],
      "metadata": {
        "id": "WyEHOzsl7bns"
      },
      "execution_count": null,
      "outputs": []
    },
    {
      "cell_type": "code",
      "source": [
        "# Decode English sentences\n",
        "decoded_en = [sp_en.decode(encoded_sentence) for encoded_sentence in encoded_en]\n",
        "\n",
        "# Decode Japanese sentences\n",
        "decoded_jp = [sp_jp.decode(encoded_sentence) for encoded_sentence in encoded_jp]"
      ],
      "metadata": {
        "id": "HoeSxUfmeBXP"
      },
      "execution_count": null,
      "outputs": []
    }
  ]
}