{
  "nbformat": 4,
  "nbformat_minor": 0,
  "metadata": {
    "colab": {
      "provenance": [],
      "machine_shape": "hm",
      "gpuType": "V100",
      "mount_file_id": "1JulSq5XX-TaRj3iJyFHpuiyPMml1J9HP",
      "authorship_tag": "ABX9TyP1XBnfT9ghSm1y1eEnMDUT",
      "include_colab_link": true
    },
    "kernelspec": {
      "name": "python3",
      "display_name": "Python 3"
    },
    "language_info": {
      "name": "python"
    },
    "accelerator": "GPU"
  },
  "cells": [
    {
      "cell_type": "markdown",
      "metadata": {
        "id": "view-in-github",
        "colab_type": "text"
      },
      "source": [
        "<a href=\"https://colab.research.google.com/github/sethcoast/attention/blob/main/attention_is_all_you_need.ipynb\" target=\"_parent\"><img src=\"https://colab.research.google.com/assets/colab-badge.svg\" alt=\"Open In Colab\"/></a>"
      ]
    },
    {
      "cell_type": "code",
      "execution_count": 1,
      "metadata": {
        "colab": {
          "base_uri": "https://localhost:8080/"
        },
        "id": "NU3rAkqxrIMF",
        "outputId": "fdb591bb-15d6-443c-fcb3-da30ce15929c"
      },
      "outputs": [
        {
          "output_type": "stream",
          "name": "stdout",
          "text": [
            "Drive already mounted at /content/drive; to attempt to forcibly remount, call drive.mount(\"/content/drive\", force_remount=True).\n"
          ]
        }
      ],
      "source": [
        "from google.colab import drive\n",
        "# drive.mount('/content/drive', force_remount=True)\n",
        "drive.mount('/content/drive')"
      ]
    },
    {
      "cell_type": "code",
      "source": [
        "# what does the architecture look like?\n",
        "\n",
        "# How has Pytorch changed in the last little while?\n",
        "\n",
        "# What do I need for all of this?\n",
        "# 1. Training data\n",
        "# 2. Model\n",
        "# 3. Training loop\n",
        "\n",
        "# This will likely be done in a few separate phases\n",
        "# 1. Build and validate the model architecture\n",
        "        # training data?\n",
        "# 2. Set up training/snapshotting system in GCP\n"
      ],
      "metadata": {
        "id": "t6UGh4EIro9O"
      },
      "execution_count": 2,
      "outputs": []
    },
    {
      "cell_type": "code",
      "source": [
        "# Import the shit\n",
        "import torch\n",
        "import torch.nn as nn\n",
        "import torch.optim as optim\n",
        "import torch.utils.data\n",
        "import torchvision\n",
        "import torchvision.transforms\n",
        "\n",
        "import numpy as np\n",
        "import matplotlib.pyplot as plt\n"
      ],
      "metadata": {
        "id": "h_zJk3Ontz9e"
      },
      "execution_count": 3,
      "outputs": []
    },
    {
      "cell_type": "markdown",
      "source": [
        "# Data"
      ],
      "metadata": {
        "id": "pjykHnpJWr4B"
      }
    },
    {
      "cell_type": "code",
      "source": [
        "!ls drive/MyDrive/data/ja-en/"
      ],
      "metadata": {
        "colab": {
          "base_uri": "https://localhost:8080/"
        },
        "id": "WU1y1icHLTKy",
        "outputId": "785e8709-5559-4f8a-953a-a73817391a56"
      },
      "execution_count": 4,
      "outputs": [
        {
          "output_type": "stream",
          "name": "stdout",
          "text": [
            "en_bpe.txt  jp_bpe.txt\ttest  test_bpe.json\n"
          ]
        }
      ]
    },
    {
      "cell_type": "code",
      "source": [
        "import json"
      ],
      "metadata": {
        "id": "Wq8CbpShueoH"
      },
      "execution_count": 5,
      "outputs": []
    },
    {
      "cell_type": "code",
      "source": [
        "file_path = 'drive/MyDrive/data/ja-en/'\n",
        "with open(file_path + 'en_bpe.txt', 'r') as file:\n",
        "    en_data = json.loads(json.load(file))\n",
        "with open(file_path + 'jp_bpe.txt', 'r') as file:\n",
        "    jp_data = json.loads(json.load(file))"
      ],
      "metadata": {
        "id": "o9aRF2JlYuBV"
      },
      "execution_count": 6,
      "outputs": []
    },
    {
      "cell_type": "code",
      "source": [
        "print(len(en_data))\n",
        "print(len(jp_data))"
      ],
      "metadata": {
        "colab": {
          "base_uri": "https://localhost:8080/"
        },
        "id": "oKcstGn1MN3S",
        "outputId": "12f73ddf-fa64-4dc3-f55b-db59d081f2f4"
      },
      "execution_count": 7,
      "outputs": [
        {
          "output_type": "stream",
          "name": "stdout",
          "text": [
            "2000\n",
            "2000\n"
          ]
        }
      ]
    },
    {
      "cell_type": "code",
      "source": [
        "print(en_data[0])\n",
        "print(jp_data[0])"
      ],
      "metadata": {
        "colab": {
          "base_uri": "https://localhost:8080/"
        },
        "id": "K_mHFSqf0Cmm",
        "outputId": "6de72967-6607-48d6-bc84-8220c97cd66f"
      },
      "execution_count": 8,
      "outputs": [
        {
          "output_type": "stream",
          "name": "stdout",
          "text": [
            "[103, 8, 1802, 1012, 828, 20, 801]\n",
            "[3, 422, 887, 162, 183, 1481, 27]\n"
          ]
        }
      ]
    },
    {
      "cell_type": "markdown",
      "source": [
        "# Model"
      ],
      "metadata": {
        "id": "e2DEwRSH2VwY"
      }
    },
    {
      "cell_type": "code",
      "source": [
        "# Import the shit\n",
        "import torch\n",
        "import torch.nn as nn\n",
        "import torch.utils.data\n",
        "\n",
        "\n",
        "# Feed forward block (sublayer)\n",
        "class FeedForwardBlock(nn.Module):\n",
        "    def __init__(self, dmodel):\n",
        "        super(FeedForwardBlock, self).__init__()\n",
        "        # Define the feed forward network layers\n",
        "        self.fc1 = nn.Linear(dmodel, dmodel)\n",
        "        self.fc2 = nn.Linear(dmodel, dmodel)\n",
        "        self.dropout = nn.Dropout(0.1)\n",
        "        self.relu = nn.ReLU(inplace=True) # inplace = True to save memory\n",
        "\n",
        "    def forward(self, x):\n",
        "        x = self.fc1(x)\n",
        "        x = self.relu(x)\n",
        "        x = self.fc2(x)\n",
        "        x = self.dropout(x)\n",
        "\n",
        "        return x\n",
        "\n",
        "# Multihead Attention block (Sublayer)\n",
        "class MultiheadAttentionBlock(nn.Module):\n",
        "    def __init__(self, dmodel, mask=False):\n",
        "        super(MultiheadAttentionBlock, self).__init__()\n",
        "        self.mhAtt = nn.MultiheadAttention(dmodel, 8, dropout=0.1, batch_first=True)\n",
        "        # look-ahead mask\n",
        "        # self.att_mask = self.create_look_ahead_mask()\n",
        "\n",
        "    def forward(self, Q, K, V):\n",
        "        # print(Q.shape, K.shape, V.shape)\n",
        "        x = self.mhAtt(query=Q, key=K, value=V, need_weights=False)\n",
        "        return x[0]\n",
        "\n",
        "    def create_look_ahead_mask(self, size):\n",
        "        # todo: double check that this is correct\n",
        "        mask = torch.triu(torch.ones(size, size), diagonal=1)\n",
        "        mask = mask.masked_fill(mask == 1, float('-inf'))\n",
        "        return mask\n",
        "\n",
        "# define the encoder model\n",
        "class EncoderLayer(nn.Module):\n",
        "    def __init__(self, dmodel):\n",
        "        super(EncoderLayer, self).__init__()\n",
        "        # Define the attention layer\n",
        "        self.mhaBlock = MultiheadAttentionBlock(dmodel)\n",
        "        self.ff = FeedForwardBlock(dmodel)\n",
        "        self.norm = nn.LayerNorm(dmodel)\n",
        "\n",
        "\n",
        "    def forward(self, x):\n",
        "        # Multi Head Attention Sublayer()\n",
        "        out = self.mhaBlock(x, x, x)\n",
        "        out += x # residual connection\n",
        "        out = self.norm(out) # normalization\n",
        "\n",
        "        # Feed Forward Sublayer()\n",
        "        out2 = self.ff(out)\n",
        "        out2 += out # residual connection\n",
        "        out2 = self.norm(out2) # normalization\n",
        "\n",
        "        return out2\n",
        "\n",
        "# Decoder Layer\n",
        "class DecoderLayer(nn.Module):\n",
        "    def __init__(self, dmodel):\n",
        "        super(DecoderLayer, self).__init__()\n",
        "        self.mhaBlock1 = MultiheadAttentionBlock(dmodel, mask=True)\n",
        "        self.ffBlock = FeedForwardBlock(dmodel)\n",
        "        self.mhaBlock2 = MultiheadAttentionBlock(dmodel)\n",
        "        self.norm = nn.LayerNorm(dmodel)\n",
        "\n",
        "    def forward(self, in_encoding, out_embedding):\n",
        "        ## Multi Head Attention Sublayer 1 (masked)\n",
        "        # todo: padding mask?\n",
        "        decoded = self.mhaBlock1(out_embedding, out_embedding, out_embedding)\n",
        "        decoded += out_embedding # residual connection\n",
        "        decoded = self.norm(decoded) # normalization\n",
        "        ## Multi Head Attention Sublayer 2\n",
        "        decoded2 = self.mhaBlock1(decoded, in_encoding, in_encoding)\n",
        "        decoded2 += decoded # residual connection\n",
        "        decoded2 = self.norm(decoded2) # normalization\n",
        "        ## Feed Forward Sublayer\n",
        "        decoded3 = self.ffBlock(decoded2)\n",
        "        decoded3 += decoded2 # residual connection\n",
        "        decoded3 = self.norm(decoded3) # normalization\n",
        "\n",
        "        return decoded3\n",
        "\n",
        "\n",
        "class TransformerNet(nn.Module):\n",
        "    # numLayers = 6 by default to mimic the parameters of the paper\n",
        "    def __init__(self, vocab_size, dmodel, numLayers = 6):\n",
        "        super(TransformerNet, self).__init__()\n",
        "        # todo: define the positional encoding stuff?\n",
        "        # Embedding layer\n",
        "        self.embedding_layer = nn.Linear(vocab_size, dmodel)\n",
        "        # Instantiate encoder/decoder layers\n",
        "        self.encoder_layers = nn.ModuleList()\n",
        "        for _ in range(numLayers):\n",
        "            self.encoder_layers.append(EncoderLayer(dmodel))\n",
        "        self.decoder_layers = nn.ModuleList()\n",
        "        for _ in range(numLayers):\n",
        "            self.decoder_layers.append(DecoderLayer(dmodel))\n",
        "        # Output layer\n",
        "        self.last = nn.Linear(dmodel, vocab_size)\n",
        "        self.last.weight = torch.nn.Parameter(self.embedding_layer.weight.t()) # todo: double check this\n",
        "        self.softmax = nn.Softmax(dim=2)\n",
        "\n",
        "    # todo: maybe rewrite this eventually\n",
        "    def forward(self, in_seq, out_seq):\n",
        "        # todo: Embedding layers (multiply weights by √dmodel (v2))\n",
        "        # todo: Contatenate input w/ positional encoding (v2)\n",
        "        # Encoder stack\n",
        "        in_encode = self.embedding_layer(in_seq) # shape = (batch_size, seq_len, dmodel)\n",
        "        for layer in self.encoder_layers:\n",
        "            in_encode = layer(in_encode)\n",
        "        # Decoder stack\n",
        "        out_encode = self.embedding_layer(out_seq)\n",
        "        for layer in self.decoder_layers:\n",
        "            out_encode = layer(in_encode, out_encode)\n",
        "        # Output layer\n",
        "        out = self.last(out_encode)\n",
        "        out = self.softmax(out)\n",
        "\n",
        "        return out\n",
        "\n",
        "    def translate(self, src, max_len=50):\n",
        "        self.eval()  # Set the model to evaluation mode\n",
        "        src = torch.tensor(src).unsqueeze(0)  # Source sentence tensor\n",
        "\n"
      ],
      "metadata": {
        "id": "Wr8h-EMa2YL_"
      },
      "execution_count": 9,
      "outputs": []
    },
    {
      "cell_type": "markdown",
      "source": [
        "# Dataset"
      ],
      "metadata": {
        "id": "LrN07RK33vw9"
      }
    },
    {
      "cell_type": "code",
      "source": [
        "import torch\n",
        "import torch.nn as nn\n",
        "import torch.optim as optim\n",
        "import torch.utils.data\n",
        "import torchtext\n",
        "import torchvision\n",
        "import torchvision.transforms\n",
        "import json\n",
        "\n",
        "from torch.nn.utils.rnn import pad_sequence\n",
        "from torch.utils.data import Dataset, DataLoader"
      ],
      "metadata": {
        "id": "srSbUJyD32Xh"
      },
      "execution_count": 10,
      "outputs": []
    },
    {
      "cell_type": "code",
      "source": [
        "class SentenceDataset(Dataset):\n",
        "    def __init__(self, data_path, vocab_size):\n",
        "        # read the data\n",
        "        with open(data_path, 'r') as file:\n",
        "            self.data = json.loads(json.load(file))\n",
        "\n",
        "        # split sequences and one-hot encode\n",
        "        self.input = [nn.functional.one_hot(torch.tensor(sublist[0]), vocab_size).float() for sublist in self.data]\n",
        "        self.output = [nn.functional.one_hot(torch.tensor(sublist[1]), vocab_size).float() for sublist in self.data]\n",
        "\n",
        "\n",
        "\n",
        "    def __len__(self):\n",
        "        return len(self.data)\n",
        "\n",
        "    def __getitem__(self, idx):\n",
        "        # return the input and output sequences\n",
        "        return self.input[idx], self.output[idx]\n",
        "\n",
        "def custom_collate_fn(batch):\n",
        "    # Sort the batch in the descending order of sequence length\n",
        "    batch.sort(key=lambda x: len(x), reverse=True)\n",
        "\n",
        "    # Separate the sequences and labels (if any) # todo: this seems unecessary, remove\n",
        "    sequences = [item[0] for item in batch]\n",
        "\n",
        "    # Pad sequences\n",
        "    padded_sequences = pad_sequence(sequences, batch_first=True, padding_value=0)\n",
        "\n",
        "    return padded_sequences"
      ],
      "metadata": {
        "id": "sgnzfP2n3vg7"
      },
      "execution_count": 11,
      "outputs": []
    },
    {
      "cell_type": "markdown",
      "source": [
        "# Train Loop"
      ],
      "metadata": {
        "id": "yac5-8T03GuX"
      }
    },
    {
      "cell_type": "code",
      "source": [
        "from tqdm import tqdm"
      ],
      "metadata": {
        "id": "J5tQ_Kc1XIYk"
      },
      "execution_count": 12,
      "outputs": []
    },
    {
      "cell_type": "code",
      "source": [
        "# Set seeds\n",
        "torch.manual_seed(0)\n",
        "torch.backends.cudnn.deterministic = True\n",
        "torch.backends.cudnn.benchmark = False\n"
      ],
      "metadata": {
        "id": "al8ZH_PWVHur"
      },
      "execution_count": 13,
      "outputs": []
    },
    {
      "cell_type": "code",
      "source": [
        "# Data loading\n",
        "# sort sentences by length (todo: do this in prepare_data.py when you write the sentences to file)\n",
        "# apply transforms as necessary (pad here?)\n",
        "vocab_size = 2000\n",
        "drive_dir = 'drive/MyDrive/'\n",
        "data_dir = 'drive/MyDrive/data/ja-en/'\n",
        "split_suffix = 'test'\n",
        "train_data = SentenceDataset(data_dir + split_suffix + '_bpe.json', vocab_size)\n",
        "\n",
        "# Move pytorch dataset into dataloader.\n",
        "train_batch_size = 1\n",
        "train_loader = DataLoader(train_data, batch_size=train_batch_size, shuffle=True)\n",
        "print(f'Created `train_loader` with {len(train_loader)} batches!')"
      ],
      "metadata": {
        "colab": {
          "base_uri": "https://localhost:8080/"
        },
        "id": "CMqOrQDV3n6G",
        "outputId": "c9178ad7-30c2-47a4-8ad0-7e31903d73e8"
      },
      "execution_count": 14,
      "outputs": [
        {
          "output_type": "stream",
          "name": "stdout",
          "text": [
            "Created `train_loader` with 2000 batches!\n"
          ]
        }
      ]
    },
    {
      "cell_type": "code",
      "source": [
        "# Model, Loss Function, Optimizer\n",
        "dmodel = 512\n",
        "H = 6\n",
        "model = TransformerNet(vocab_size, dmodel, H)\n",
        "criterion = nn.CrossEntropyLoss()  # todo: I'm pretty sure this is correct, but double check\n",
        "optimizer = optim.Adam(model.parameters(), lr=0.001) # todo: double check paper params\n",
        "\n",
        "# Device configuration\n",
        "device = torch.device('cuda' if torch.cuda.is_available() else 'cpu')\n",
        "model.to(device)\n",
        "print(device)\n"
      ],
      "metadata": {
        "colab": {
          "base_uri": "https://localhost:8080/"
        },
        "id": "J9l2WSQu3F66",
        "outputId": "5d86a71e-e40f-4559-b6dd-a0dce9011da4"
      },
      "execution_count": 15,
      "outputs": [
        {
          "output_type": "stream",
          "name": "stdout",
          "text": [
            "cuda\n"
          ]
        }
      ]
    },
    {
      "cell_type": "code",
      "source": [
        "train_losses = []\n",
        "val_losses = []\n",
        "\n",
        "validation_accs = []\n",
        "accuracies = []"
      ],
      "metadata": {
        "id": "4t8Vf0FO4s0d"
      },
      "execution_count": 16,
      "outputs": []
    },
    {
      "cell_type": "code",
      "source": [
        "# Training Loop\n",
        "num_epochs = 5  # Example number of epochs\n",
        "for epoch in range(num_epochs):\n",
        "    loop = tqdm(total=len(train_loader), position=0, leave=False)\n",
        "    model.train()  # Set the model to training mode\n",
        "    for batch_idx, (input_seq, output_seq) in enumerate(train_loader):\n",
        "        input_seq, output_seq = input_seq.to(device), output_seq.to(device)\n",
        "\n",
        "        # Forward pass\n",
        "        outputs = model(input_seq, output_seq)\n",
        "        # print(outputs.shape)\n",
        "        # print(outputs)\n",
        "        # print(outputs[0][0].shape)\n",
        "        # print(outputs[0][0].sum())\n",
        "        # break\n",
        "\n",
        "        loss = criterion(outputs, output_seq)\n",
        "\n",
        "        # Backward pass and optimization\n",
        "        optimizer.zero_grad()  # Clear gradients from the previous step\n",
        "        loss.backward()  # Backpropagation\n",
        "        optimizer.step()  # Apply the gradients\n",
        "\n",
        "\n",
        "\n",
        "        # if (batch_idx + 1) % 100 == 0:\n",
        "        #     print(f'Epoch [{epoch+1}/{num_epochs}], Step [{batch_idx+1}/{len(train_loader)}], Loss: {loss.item():.4f}')\n",
        "\n",
        "        # Housekeeping\n",
        "        train_losses.append(loss)\n",
        "        # accuracy = get_raw_accuracy(y_hat, y_truth)\n",
        "        mem = torch.cuda.memory_allocated(0) / 1e9\n",
        "        # accuracies.append(accuracy)\n",
        "        # loop.set_description('epoch:{}, loss:{:.4f}, accuracy:{:.3f}, mem:{:.2f}'.format(epoch, loss, accuracy, mem))\n",
        "        loop.set_description('epoch:{}, loss:{:.4f}, mem:{:.2f}'.format(epoch, loss, mem))\n",
        "        loop.update(1)\n",
        "\n",
        "    # Validation Loop (cute and optimized)\n",
        "    # compute the loss for all x, y in val_loader, then get the mean of those losses\n",
        "    # val = np.mean([criterion(model(x.cuda()), y.cuda().long()).item()\n",
        "    #                 for x, y in test_loader\n",
        "    #                 ])\n",
        "    # val_losses.append((len(train_losses), val))\n",
        "    # print('\\nVal Loss: {:.4f}'.format(val))\n",
        "\n",
        "    # todo: remove accuracy block?\n",
        "    # val_acc = np.mean([get_raw_accuracy(model(x.cuda()), y.cuda().long())\n",
        "    #                 for x, y in test_loader\n",
        "    #                 ])\n",
        "    # validation_accs.append((len(accuracies), val_acc))\n",
        "    # print('\\nVal Loss: {:.4f}, Val Accuracy: {:.3f}'.format(val, val_acc))\n",
        "\n",
        "    loop.close()\n",
        "\n",
        "    # break\n",
        "\n",
        "print(\"Training Complete\")"
      ],
      "metadata": {
        "colab": {
          "base_uri": "https://localhost:8080/"
        },
        "id": "_HX1ViY33PvA",
        "outputId": "92799fe0-dbcb-469b-8d17-eab5228844b9"
      },
      "execution_count": 17,
      "outputs": [
        {
          "output_type": "stream",
          "name": "stderr",
          "text": [
            "epoch:0, loss:0.0054, mem:0.38:   5%|▌         | 105/2000 [00:04<00:59, 31.68it/s]"
          ]
        },
        {
          "output_type": "stream",
          "name": "stdout",
          "text": [
            "Epoch [1/5], Step [100/2000], Loss: 0.0167\n"
          ]
        },
        {
          "output_type": "stream",
          "name": "stderr",
          "text": [
            "epoch:0, loss:0.0203, mem:0.38:  10%|█         | 204/2000 [00:07<01:01, 29.01it/s]"
          ]
        },
        {
          "output_type": "stream",
          "name": "stdout",
          "text": [
            "Epoch [1/5], Step [200/2000], Loss: 0.0222\n"
          ]
        },
        {
          "output_type": "stream",
          "name": "stderr",
          "text": [
            "epoch:0, loss:0.0222, mem:0.38:  15%|█▌        | 306/2000 [00:11<00:54, 31.18it/s]"
          ]
        },
        {
          "output_type": "stream",
          "name": "stdout",
          "text": [
            "Epoch [1/5], Step [300/2000], Loss: 0.0185\n"
          ]
        },
        {
          "output_type": "stream",
          "name": "stderr",
          "text": [
            "epoch:0, loss:0.0028, mem:0.38:  20%|██        | 405/2000 [00:14<00:53, 30.01it/s]"
          ]
        },
        {
          "output_type": "stream",
          "name": "stdout",
          "text": [
            "Epoch [1/5], Step [400/2000], Loss: 0.0115\n"
          ]
        },
        {
          "output_type": "stream",
          "name": "stderr",
          "text": [
            "epoch:0, loss:0.0132, mem:0.38:  25%|██▌       | 504/2000 [00:17<00:48, 31.15it/s]"
          ]
        },
        {
          "output_type": "stream",
          "name": "stdout",
          "text": [
            "Epoch [1/5], Step [500/2000], Loss: 0.0280\n"
          ]
        },
        {
          "output_type": "stream",
          "name": "stderr",
          "text": [
            "epoch:0, loss:0.0054, mem:0.38:  30%|███       | 605/2000 [00:20<00:45, 30.66it/s]"
          ]
        },
        {
          "output_type": "stream",
          "name": "stdout",
          "text": [
            "Epoch [1/5], Step [600/2000], Loss: 0.0167\n"
          ]
        },
        {
          "output_type": "stream",
          "name": "stderr",
          "text": [
            "epoch:0, loss:0.0115, mem:0.38:  35%|███▌      | 705/2000 [00:24<00:42, 30.56it/s]"
          ]
        },
        {
          "output_type": "stream",
          "name": "stdout",
          "text": [
            "Epoch [1/5], Step [700/2000], Loss: 0.0115\n"
          ]
        },
        {
          "output_type": "stream",
          "name": "stderr",
          "text": [
            "epoch:0, loss:0.0149, mem:0.38:  40%|████      | 804/2000 [00:27<00:42, 27.82it/s]"
          ]
        },
        {
          "output_type": "stream",
          "name": "stdout",
          "text": [
            "Epoch [1/5], Step [800/2000], Loss: 0.0222\n"
          ]
        },
        {
          "output_type": "stream",
          "name": "stderr",
          "text": [
            "epoch:0, loss:0.0083, mem:0.38:  45%|████▌     | 905/2000 [00:30<00:35, 31.04it/s]"
          ]
        },
        {
          "output_type": "stream",
          "name": "stdout",
          "text": [
            "Epoch [1/5], Step [900/2000], Loss: 0.0068\n"
          ]
        },
        {
          "output_type": "stream",
          "name": "stderr",
          "text": [
            "epoch:0, loss:0.0185, mem:0.38:  50%|█████     | 1006/2000 [00:34<00:31, 32.02it/s]"
          ]
        },
        {
          "output_type": "stream",
          "name": "stdout",
          "text": [
            "Epoch [1/5], Step [1000/2000], Loss: 0.0068\n"
          ]
        },
        {
          "output_type": "stream",
          "name": "stderr",
          "text": [
            "epoch:0, loss:0.0068, mem:0.38:  55%|█████▌    | 1106/2000 [00:37<00:29, 30.36it/s]"
          ]
        },
        {
          "output_type": "stream",
          "name": "stdout",
          "text": [
            "Epoch [1/5], Step [1100/2000], Loss: 0.0185\n"
          ]
        },
        {
          "output_type": "stream",
          "name": "stderr",
          "text": [
            "epoch:0, loss:0.0149, mem:0.38:  60%|██████    | 1205/2000 [00:40<00:25, 31.77it/s]"
          ]
        },
        {
          "output_type": "stream",
          "name": "stdout",
          "text": [
            "Epoch [1/5], Step [1200/2000], Loss: 0.0467\n"
          ]
        },
        {
          "output_type": "stream",
          "name": "stderr",
          "text": [
            "epoch:0, loss:0.0054, mem:0.38:  65%|██████▌   | 1305/2000 [00:44<00:23, 29.72it/s]"
          ]
        },
        {
          "output_type": "stream",
          "name": "stdout",
          "text": [
            "Epoch [1/5], Step [1300/2000], Loss: 0.0083\n"
          ]
        },
        {
          "output_type": "stream",
          "name": "stderr",
          "text": [
            "epoch:0, loss:0.0099, mem:0.38:  70%|███████   | 1404/2000 [00:47<00:21, 27.64it/s]"
          ]
        },
        {
          "output_type": "stream",
          "name": "stdout",
          "text": [
            "Epoch [1/5], Step [1400/2000], Loss: 0.0280\n"
          ]
        },
        {
          "output_type": "stream",
          "name": "stderr",
          "text": [
            "epoch:0, loss:0.0054, mem:0.38:  75%|███████▌  | 1504/2000 [00:51<00:16, 29.78it/s]"
          ]
        },
        {
          "output_type": "stream",
          "name": "stdout",
          "text": [
            "Epoch [1/5], Step [1500/2000], Loss: 0.0203\n"
          ]
        },
        {
          "output_type": "stream",
          "name": "stderr",
          "text": [
            "epoch:0, loss:0.0222, mem:0.38:  80%|████████  | 1605/2000 [00:54<00:12, 31.68it/s]"
          ]
        },
        {
          "output_type": "stream",
          "name": "stdout",
          "text": [
            "Epoch [1/5], Step [1600/2000], Loss: 0.0203\n"
          ]
        },
        {
          "output_type": "stream",
          "name": "stderr",
          "text": [
            "epoch:0, loss:0.0068, mem:0.38:  85%|████████▌ | 1705/2000 [00:57<00:09, 31.30it/s]"
          ]
        },
        {
          "output_type": "stream",
          "name": "stdout",
          "text": [
            "Epoch [1/5], Step [1700/2000], Loss: 0.0028\n"
          ]
        },
        {
          "output_type": "stream",
          "name": "stderr",
          "text": [
            "epoch:0, loss:0.0083, mem:0.38:  90%|█████████ | 1805/2000 [01:01<00:06, 30.03it/s]"
          ]
        },
        {
          "output_type": "stream",
          "name": "stdout",
          "text": [
            "Epoch [1/5], Step [1800/2000], Loss: 0.0054\n"
          ]
        },
        {
          "output_type": "stream",
          "name": "stderr",
          "text": [
            "epoch:0, loss:0.0028, mem:0.38:  95%|█████████▌| 1904/2000 [01:04<00:03, 29.14it/s]"
          ]
        },
        {
          "output_type": "stream",
          "name": "stdout",
          "text": [
            "Epoch [1/5], Step [1900/2000], Loss: 0.0185\n"
          ]
        },
        {
          "output_type": "stream",
          "name": "stderr",
          "text": []
        },
        {
          "output_type": "stream",
          "name": "stdout",
          "text": [
            "Epoch [1/5], Step [2000/2000], Loss: 0.0040\n"
          ]
        },
        {
          "output_type": "stream",
          "name": "stderr",
          "text": [
            "epoch:1, loss:0.0099, mem:0.38:   5%|▌         | 105/2000 [00:03<01:03, 29.69it/s]"
          ]
        },
        {
          "output_type": "stream",
          "name": "stdout",
          "text": [
            "Epoch [2/5], Step [100/2000], Loss: 0.0467\n"
          ]
        },
        {
          "output_type": "stream",
          "name": "stderr",
          "text": [
            "epoch:1, loss:0.0132, mem:0.38:  10%|█         | 205/2000 [00:06<00:58, 30.50it/s]"
          ]
        },
        {
          "output_type": "stream",
          "name": "stdout",
          "text": [
            "Epoch [2/5], Step [200/2000], Loss: 0.0300\n"
          ]
        },
        {
          "output_type": "stream",
          "name": "stderr",
          "text": [
            "epoch:1, loss:0.0115, mem:0.38:  15%|█▌        | 305/2000 [00:10<00:53, 31.59it/s]"
          ]
        },
        {
          "output_type": "stream",
          "name": "stdout",
          "text": [
            "Epoch [2/5], Step [300/2000], Loss: 0.0054\n"
          ]
        },
        {
          "output_type": "stream",
          "name": "stderr",
          "text": [
            "epoch:1, loss:0.0185, mem:0.38:  20%|██        | 405/2000 [00:13<00:50, 31.65it/s]"
          ]
        },
        {
          "output_type": "stream",
          "name": "stdout",
          "text": [
            "Epoch [2/5], Step [400/2000], Loss: 0.0068\n"
          ]
        },
        {
          "output_type": "stream",
          "name": "stderr",
          "text": [
            "epoch:1, loss:0.0068, mem:0.38:  25%|██▌       | 505/2000 [00:16<00:52, 28.71it/s]"
          ]
        },
        {
          "output_type": "stream",
          "name": "stdout",
          "text": [
            "Epoch [2/5], Step [500/2000], Loss: 0.0132\n"
          ]
        },
        {
          "output_type": "stream",
          "name": "stderr",
          "text": [
            "epoch:1, loss:0.0488, mem:0.38:  30%|███       | 605/2000 [00:20<00:43, 32.15it/s]"
          ]
        },
        {
          "output_type": "stream",
          "name": "stdout",
          "text": [
            "Epoch [2/5], Step [600/2000], Loss: 0.0054\n"
          ]
        },
        {
          "output_type": "stream",
          "name": "stderr",
          "text": [
            "epoch:1, loss:0.0203, mem:0.38:  35%|███▌      | 705/2000 [00:23<00:41, 30.88it/s]"
          ]
        },
        {
          "output_type": "stream",
          "name": "stdout",
          "text": [
            "Epoch [2/5], Step [700/2000], Loss: 0.0222\n"
          ]
        },
        {
          "output_type": "stream",
          "name": "stderr",
          "text": [
            "epoch:1, loss:0.0083, mem:0.38:  40%|████      | 804/2000 [00:26<00:39, 30.05it/s]"
          ]
        },
        {
          "output_type": "stream",
          "name": "stdout",
          "text": [
            "Epoch [2/5], Step [800/2000], Loss: 0.0381\n"
          ]
        },
        {
          "output_type": "stream",
          "name": "stderr",
          "text": [
            "epoch:1, loss:0.0185, mem:0.38:  45%|████▌     | 905/2000 [00:30<00:38, 28.78it/s]"
          ]
        },
        {
          "output_type": "stream",
          "name": "stdout",
          "text": [
            "Epoch [2/5], Step [900/2000], Loss: 0.0115\n"
          ]
        },
        {
          "output_type": "stream",
          "name": "stderr",
          "text": [
            "epoch:1, loss:0.0083, mem:0.38:  50%|█████     | 1005/2000 [00:33<00:33, 30.13it/s]"
          ]
        },
        {
          "output_type": "stream",
          "name": "stdout",
          "text": [
            "Epoch [2/5], Step [1000/2000], Loss: 0.0185\n"
          ]
        },
        {
          "output_type": "stream",
          "name": "stderr",
          "text": [
            "epoch:1, loss:0.0040, mem:0.38:  55%|█████▌    | 1106/2000 [00:36<00:29, 30.52it/s]"
          ]
        },
        {
          "output_type": "stream",
          "name": "stdout",
          "text": [
            "Epoch [2/5], Step [1100/2000], Loss: 0.0467\n"
          ]
        },
        {
          "output_type": "stream",
          "name": "stderr",
          "text": [
            "epoch:1, loss:0.0149, mem:0.38:  60%|██████    | 1205/2000 [00:40<00:27, 28.73it/s]"
          ]
        },
        {
          "output_type": "stream",
          "name": "stdout",
          "text": [
            "Epoch [2/5], Step [1200/2000], Loss: 0.0068\n"
          ]
        },
        {
          "output_type": "stream",
          "name": "stderr",
          "text": [
            "epoch:1, loss:0.0222, mem:0.38:  65%|██████▌   | 1304/2000 [00:43<00:25, 27.20it/s]"
          ]
        },
        {
          "output_type": "stream",
          "name": "stdout",
          "text": [
            "Epoch [2/5], Step [1300/2000], Loss: 0.0241\n"
          ]
        },
        {
          "output_type": "stream",
          "name": "stderr",
          "text": [
            "epoch:1, loss:0.0203, mem:0.38:  70%|███████   | 1405/2000 [00:46<00:18, 31.79it/s]"
          ]
        },
        {
          "output_type": "stream",
          "name": "stdout",
          "text": [
            "Epoch [2/5], Step [1400/2000], Loss: 0.0028\n"
          ]
        },
        {
          "output_type": "stream",
          "name": "stderr",
          "text": [
            "epoch:1, loss:0.0222, mem:0.38:  75%|███████▌  | 1504/2000 [00:50<00:16, 29.57it/s]"
          ]
        },
        {
          "output_type": "stream",
          "name": "stdout",
          "text": [
            "Epoch [2/5], Step [1500/2000], Loss: 0.0040\n"
          ]
        },
        {
          "output_type": "stream",
          "name": "stderr",
          "text": [
            "epoch:1, loss:0.0132, mem:0.38:  80%|████████  | 1605/2000 [00:53<00:12, 31.04it/s]"
          ]
        },
        {
          "output_type": "stream",
          "name": "stdout",
          "text": [
            "Epoch [2/5], Step [1600/2000], Loss: 0.0068\n"
          ]
        },
        {
          "output_type": "stream",
          "name": "stderr",
          "text": [
            "epoch:1, loss:0.0424, mem:0.38:  85%|████████▌ | 1704/2000 [00:56<00:09, 30.52it/s]"
          ]
        },
        {
          "output_type": "stream",
          "name": "stdout",
          "text": [
            "Epoch [2/5], Step [1700/2000], Loss: 0.0040\n"
          ]
        },
        {
          "output_type": "stream",
          "name": "stderr",
          "text": [
            "epoch:1, loss:0.0115, mem:0.38:  90%|█████████ | 1805/2000 [01:00<00:06, 29.64it/s]"
          ]
        },
        {
          "output_type": "stream",
          "name": "stdout",
          "text": [
            "Epoch [2/5], Step [1800/2000], Loss: 0.0149\n"
          ]
        },
        {
          "output_type": "stream",
          "name": "stderr",
          "text": [
            "epoch:1, loss:0.0132, mem:0.38:  95%|█████████▌| 1905/2000 [01:03<00:03, 30.17it/s]"
          ]
        },
        {
          "output_type": "stream",
          "name": "stdout",
          "text": [
            "Epoch [2/5], Step [1900/2000], Loss: 0.0149\n"
          ]
        },
        {
          "output_type": "stream",
          "name": "stderr",
          "text": []
        },
        {
          "output_type": "stream",
          "name": "stdout",
          "text": [
            "Epoch [2/5], Step [2000/2000], Loss: 0.0068\n"
          ]
        },
        {
          "output_type": "stream",
          "name": "stderr",
          "text": [
            "epoch:2, loss:0.0149, mem:0.38:   5%|▌         | 104/2000 [00:03<01:04, 29.43it/s]"
          ]
        },
        {
          "output_type": "stream",
          "name": "stdout",
          "text": [
            "Epoch [3/5], Step [100/2000], Loss: 0.0054\n"
          ]
        },
        {
          "output_type": "stream",
          "name": "stderr",
          "text": [
            "epoch:2, loss:0.0167, mem:0.38:  10%|█         | 204/2000 [00:06<01:01, 29.15it/s]"
          ]
        },
        {
          "output_type": "stream",
          "name": "stdout",
          "text": [
            "Epoch [3/5], Step [200/2000], Loss: 0.0054\n"
          ]
        },
        {
          "output_type": "stream",
          "name": "stderr",
          "text": [
            "epoch:2, loss:0.0340, mem:0.38:  15%|█▌        | 306/2000 [00:10<00:54, 31.13it/s]"
          ]
        },
        {
          "output_type": "stream",
          "name": "stdout",
          "text": [
            "Epoch [3/5], Step [300/2000], Loss: 0.0167\n"
          ]
        },
        {
          "output_type": "stream",
          "name": "stderr",
          "text": [
            "epoch:2, loss:0.0068, mem:0.38:  20%|██        | 405/2000 [00:13<00:51, 31.16it/s]"
          ]
        },
        {
          "output_type": "stream",
          "name": "stdout",
          "text": [
            "Epoch [3/5], Step [400/2000], Loss: 0.0340\n"
          ]
        },
        {
          "output_type": "stream",
          "name": "stderr",
          "text": [
            "epoch:2, loss:0.0016, mem:0.38:  25%|██▌       | 505/2000 [00:16<00:52, 28.35it/s]"
          ]
        },
        {
          "output_type": "stream",
          "name": "stdout",
          "text": [
            "Epoch [3/5], Step [500/2000], Loss: 0.0099\n"
          ]
        },
        {
          "output_type": "stream",
          "name": "stderr",
          "text": [
            "epoch:2, loss:0.0099, mem:0.38:  30%|███       | 604/2000 [00:20<00:46, 29.72it/s]"
          ]
        },
        {
          "output_type": "stream",
          "name": "stdout",
          "text": [
            "Epoch [3/5], Step [600/2000], Loss: 0.0149\n"
          ]
        },
        {
          "output_type": "stream",
          "name": "stderr",
          "text": [
            "epoch:2, loss:0.0167, mem:0.38:  35%|███▌      | 705/2000 [00:23<00:41, 31.40it/s]"
          ]
        },
        {
          "output_type": "stream",
          "name": "stdout",
          "text": [
            "Epoch [3/5], Step [700/2000], Loss: 0.0445\n"
          ]
        },
        {
          "output_type": "stream",
          "name": "stderr",
          "text": [
            "epoch:2, loss:0.0028, mem:0.38:  40%|████      | 804/2000 [00:26<00:42, 27.87it/s]"
          ]
        },
        {
          "output_type": "stream",
          "name": "stdout",
          "text": [
            "Epoch [3/5], Step [800/2000], Loss: 0.0300\n"
          ]
        },
        {
          "output_type": "stream",
          "name": "stderr",
          "text": [
            "epoch:2, loss:0.0054, mem:0.38:  45%|████▌     | 905/2000 [00:30<00:36, 30.30it/s]"
          ]
        },
        {
          "output_type": "stream",
          "name": "stdout",
          "text": [
            "Epoch [3/5], Step [900/2000], Loss: 0.0280\n"
          ]
        },
        {
          "output_type": "stream",
          "name": "stderr",
          "text": [
            "epoch:2, loss:0.0115, mem:0.38:  50%|█████     | 1005/2000 [00:33<00:33, 29.60it/s]"
          ]
        },
        {
          "output_type": "stream",
          "name": "stdout",
          "text": [
            "Epoch [3/5], Step [1000/2000], Loss: 0.0241\n"
          ]
        },
        {
          "output_type": "stream",
          "name": "stderr",
          "text": [
            "epoch:2, loss:0.0132, mem:0.38:  55%|█████▌    | 1104/2000 [00:36<00:31, 28.08it/s]"
          ]
        },
        {
          "output_type": "stream",
          "name": "stdout",
          "text": [
            "Epoch [3/5], Step [1100/2000], Loss: 0.0028\n"
          ]
        },
        {
          "output_type": "stream",
          "name": "stderr",
          "text": [
            "epoch:2, loss:0.0040, mem:0.38:  60%|██████    | 1206/2000 [00:40<00:26, 30.19it/s]"
          ]
        },
        {
          "output_type": "stream",
          "name": "stdout",
          "text": [
            "Epoch [3/5], Step [1200/2000], Loss: 0.0007\n"
          ]
        },
        {
          "output_type": "stream",
          "name": "stderr",
          "text": [
            "epoch:2, loss:0.0260, mem:0.38:  65%|██████▌   | 1304/2000 [00:43<00:24, 28.56it/s]"
          ]
        },
        {
          "output_type": "stream",
          "name": "stdout",
          "text": [
            "Epoch [3/5], Step [1300/2000], Loss: 0.0167\n"
          ]
        },
        {
          "output_type": "stream",
          "name": "stderr",
          "text": [
            "epoch:2, loss:0.0149, mem:0.38:  70%|███████   | 1405/2000 [00:46<00:19, 31.00it/s]"
          ]
        },
        {
          "output_type": "stream",
          "name": "stdout",
          "text": [
            "Epoch [3/5], Step [1400/2000], Loss: 0.0115\n"
          ]
        },
        {
          "output_type": "stream",
          "name": "stderr",
          "text": [
            "epoch:2, loss:0.0260, mem:0.38:  75%|███████▌  | 1506/2000 [00:50<00:16, 30.71it/s]"
          ]
        },
        {
          "output_type": "stream",
          "name": "stdout",
          "text": [
            "Epoch [3/5], Step [1500/2000], Loss: 0.0068\n"
          ]
        },
        {
          "output_type": "stream",
          "name": "stderr",
          "text": [
            "epoch:2, loss:0.0083, mem:0.38:  80%|████████  | 1605/2000 [00:53<00:12, 31.24it/s]"
          ]
        },
        {
          "output_type": "stream",
          "name": "stdout",
          "text": [
            "Epoch [3/5], Step [1600/2000], Loss: 0.0016\n"
          ]
        },
        {
          "output_type": "stream",
          "name": "stderr",
          "text": [
            "epoch:2, loss:0.0167, mem:0.38:  85%|████████▌ | 1705/2000 [00:56<00:09, 30.33it/s]"
          ]
        },
        {
          "output_type": "stream",
          "name": "stdout",
          "text": [
            "Epoch [3/5], Step [1700/2000], Loss: 0.0203\n"
          ]
        },
        {
          "output_type": "stream",
          "name": "stderr",
          "text": [
            "epoch:2, loss:0.0028, mem:0.38:  90%|█████████ | 1804/2000 [01:00<00:06, 29.84it/s]"
          ]
        },
        {
          "output_type": "stream",
          "name": "stdout",
          "text": [
            "Epoch [3/5], Step [1800/2000], Loss: 0.0040\n"
          ]
        },
        {
          "output_type": "stream",
          "name": "stderr",
          "text": [
            "epoch:2, loss:0.0222, mem:0.38:  95%|█████████▌| 1906/2000 [01:03<00:03, 30.15it/s]"
          ]
        },
        {
          "output_type": "stream",
          "name": "stdout",
          "text": [
            "Epoch [3/5], Step [1900/2000], Loss: 0.0185\n"
          ]
        },
        {
          "output_type": "stream",
          "name": "stderr",
          "text": []
        },
        {
          "output_type": "stream",
          "name": "stdout",
          "text": [
            "Epoch [3/5], Step [2000/2000], Loss: 0.0149\n"
          ]
        },
        {
          "output_type": "stream",
          "name": "stderr",
          "text": [
            "epoch:3, loss:0.0300, mem:0.38:   5%|▌         | 105/2000 [00:03<01:03, 29.63it/s]"
          ]
        },
        {
          "output_type": "stream",
          "name": "stdout",
          "text": [
            "Epoch [4/5], Step [100/2000], Loss: 0.0149\n"
          ]
        },
        {
          "output_type": "stream",
          "name": "stderr",
          "text": [
            "epoch:3, loss:0.0068, mem:0.38:  10%|█         | 204/2000 [00:06<01:03, 28.11it/s]"
          ]
        },
        {
          "output_type": "stream",
          "name": "stdout",
          "text": [
            "Epoch [4/5], Step [200/2000], Loss: 0.0016\n"
          ]
        },
        {
          "output_type": "stream",
          "name": "stderr",
          "text": [
            "epoch:3, loss:0.0185, mem:0.38:  15%|█▌        | 305/2000 [00:10<00:56, 30.25it/s]"
          ]
        },
        {
          "output_type": "stream",
          "name": "stdout",
          "text": [
            "Epoch [4/5], Step [300/2000], Loss: 0.0028\n"
          ]
        },
        {
          "output_type": "stream",
          "name": "stderr",
          "text": [
            "epoch:3, loss:0.0040, mem:0.38:  20%|██        | 405/2000 [00:13<00:51, 30.85it/s]"
          ]
        },
        {
          "output_type": "stream",
          "name": "stdout",
          "text": [
            "Epoch [4/5], Step [400/2000], Loss: 0.0320\n"
          ]
        },
        {
          "output_type": "stream",
          "name": "stderr",
          "text": [
            "epoch:3, loss:0.0132, mem:0.38:  25%|██▌       | 504/2000 [00:16<00:52, 28.31it/s]"
          ]
        },
        {
          "output_type": "stream",
          "name": "stdout",
          "text": [
            "Epoch [4/5], Step [500/2000], Loss: 0.0016\n"
          ]
        },
        {
          "output_type": "stream",
          "name": "stderr",
          "text": [
            "epoch:3, loss:0.0054, mem:0.38:  30%|███       | 605/2000 [00:20<00:45, 30.56it/s]"
          ]
        },
        {
          "output_type": "stream",
          "name": "stdout",
          "text": [
            "Epoch [4/5], Step [600/2000], Loss: 0.0115\n"
          ]
        },
        {
          "output_type": "stream",
          "name": "stderr",
          "text": [
            "epoch:3, loss:0.0068, mem:0.38:  35%|███▌      | 705/2000 [00:23<00:43, 29.57it/s]"
          ]
        },
        {
          "output_type": "stream",
          "name": "stdout",
          "text": [
            "Epoch [4/5], Step [700/2000], Loss: 0.0083\n"
          ]
        },
        {
          "output_type": "stream",
          "name": "stderr",
          "text": [
            "epoch:3, loss:0.0340, mem:0.38:  40%|████      | 804/2000 [00:27<00:42, 28.33it/s]"
          ]
        },
        {
          "output_type": "stream",
          "name": "stdout",
          "text": [
            "Epoch [4/5], Step [800/2000], Loss: 0.0280\n"
          ]
        },
        {
          "output_type": "stream",
          "name": "stderr",
          "text": [
            "epoch:3, loss:0.0099, mem:0.38:  45%|████▌     | 906/2000 [00:30<00:36, 30.19it/s]"
          ]
        },
        {
          "output_type": "stream",
          "name": "stdout",
          "text": [
            "Epoch [4/5], Step [900/2000], Loss: 0.0040\n"
          ]
        },
        {
          "output_type": "stream",
          "name": "stderr",
          "text": [
            "epoch:3, loss:0.0241, mem:0.38:  50%|█████     | 1004/2000 [00:34<00:34, 28.81it/s]"
          ]
        },
        {
          "output_type": "stream",
          "name": "stdout",
          "text": [
            "Epoch [4/5], Step [1000/2000], Loss: 0.0280\n"
          ]
        },
        {
          "output_type": "stream",
          "name": "stderr",
          "text": [
            "epoch:3, loss:0.0167, mem:0.38:  55%|█████▌    | 1104/2000 [00:37<00:29, 30.12it/s]"
          ]
        },
        {
          "output_type": "stream",
          "name": "stdout",
          "text": [
            "Epoch [4/5], Step [1100/2000], Loss: 0.0028\n"
          ]
        },
        {
          "output_type": "stream",
          "name": "stderr",
          "text": [
            "epoch:3, loss:0.0222, mem:0.38:  60%|██████    | 1205/2000 [00:41<00:27, 29.27it/s]"
          ]
        },
        {
          "output_type": "stream",
          "name": "stdout",
          "text": [
            "Epoch [4/5], Step [1200/2000], Loss: 0.0068\n"
          ]
        },
        {
          "output_type": "stream",
          "name": "stderr",
          "text": [
            "epoch:3, loss:0.0132, mem:0.38:  65%|██████▌   | 1305/2000 [00:44<00:23, 29.25it/s]"
          ]
        },
        {
          "output_type": "stream",
          "name": "stdout",
          "text": [
            "Epoch [4/5], Step [1300/2000], Loss: 0.0149\n"
          ]
        },
        {
          "output_type": "stream",
          "name": "stderr",
          "text": [
            "epoch:3, loss:0.0167, mem:0.38:  70%|███████   | 1404/2000 [00:48<00:22, 26.79it/s]"
          ]
        },
        {
          "output_type": "stream",
          "name": "stdout",
          "text": [
            "Epoch [4/5], Step [1400/2000], Loss: 0.0320\n"
          ]
        },
        {
          "output_type": "stream",
          "name": "stderr",
          "text": [
            "epoch:3, loss:0.0149, mem:0.38:  75%|███████▌  | 1505/2000 [00:51<00:16, 30.03it/s]"
          ]
        },
        {
          "output_type": "stream",
          "name": "stdout",
          "text": [
            "Epoch [4/5], Step [1500/2000], Loss: 0.0381\n"
          ]
        },
        {
          "output_type": "stream",
          "name": "stderr",
          "text": [
            "epoch:3, loss:0.0260, mem:0.38:  80%|████████  | 1605/2000 [00:55<00:12, 30.55it/s]"
          ]
        },
        {
          "output_type": "stream",
          "name": "stdout",
          "text": [
            "Epoch [4/5], Step [1600/2000], Loss: 0.0510\n"
          ]
        },
        {
          "output_type": "stream",
          "name": "stderr",
          "text": [
            "epoch:3, loss:0.0149, mem:0.38:  85%|████████▌ | 1705/2000 [00:58<00:10, 28.41it/s]"
          ]
        },
        {
          "output_type": "stream",
          "name": "stdout",
          "text": [
            "Epoch [4/5], Step [1700/2000], Loss: 0.0040\n"
          ]
        },
        {
          "output_type": "stream",
          "name": "stderr",
          "text": [
            "epoch:3, loss:0.0185, mem:0.38:  90%|█████████ | 1805/2000 [01:01<00:06, 30.12it/s]"
          ]
        },
        {
          "output_type": "stream",
          "name": "stdout",
          "text": [
            "Epoch [4/5], Step [1800/2000], Loss: 0.0068\n"
          ]
        },
        {
          "output_type": "stream",
          "name": "stderr",
          "text": [
            "epoch:3, loss:0.0203, mem:0.38:  95%|█████████▌| 1904/2000 [01:05<00:03, 28.25it/s]"
          ]
        },
        {
          "output_type": "stream",
          "name": "stdout",
          "text": [
            "Epoch [4/5], Step [1900/2000], Loss: 0.0028\n"
          ]
        },
        {
          "output_type": "stream",
          "name": "stderr",
          "text": []
        },
        {
          "output_type": "stream",
          "name": "stdout",
          "text": [
            "Epoch [4/5], Step [2000/2000], Loss: 0.0115\n"
          ]
        },
        {
          "output_type": "stream",
          "name": "stderr",
          "text": [
            "epoch:4, loss:0.0340, mem:0.38:   5%|▌         | 105/2000 [00:03<01:03, 30.08it/s]"
          ]
        },
        {
          "output_type": "stream",
          "name": "stdout",
          "text": [
            "Epoch [5/5], Step [100/2000], Loss: 0.0083\n"
          ]
        },
        {
          "output_type": "stream",
          "name": "stderr",
          "text": [
            "epoch:4, loss:0.0132, mem:0.38:  10%|█         | 204/2000 [00:06<01:02, 28.58it/s]"
          ]
        },
        {
          "output_type": "stream",
          "name": "stdout",
          "text": [
            "Epoch [5/5], Step [200/2000], Loss: 0.0467\n"
          ]
        },
        {
          "output_type": "stream",
          "name": "stderr",
          "text": [
            "epoch:4, loss:0.0068, mem:0.38:  15%|█▌        | 305/2000 [00:10<00:54, 30.86it/s]"
          ]
        },
        {
          "output_type": "stream",
          "name": "stdout",
          "text": [
            "Epoch [5/5], Step [300/2000], Loss: 0.0099\n"
          ]
        },
        {
          "output_type": "stream",
          "name": "stderr",
          "text": [
            "epoch:4, loss:0.0167, mem:0.38:  20%|██        | 404/2000 [00:13<00:56, 28.08it/s]"
          ]
        },
        {
          "output_type": "stream",
          "name": "stdout",
          "text": [
            "Epoch [5/5], Step [400/2000], Loss: 0.0381\n"
          ]
        },
        {
          "output_type": "stream",
          "name": "stderr",
          "text": [
            "epoch:4, loss:0.0040, mem:0.38:  25%|██▌       | 505/2000 [00:17<00:49, 30.06it/s]"
          ]
        },
        {
          "output_type": "stream",
          "name": "stdout",
          "text": [
            "Epoch [5/5], Step [500/2000], Loss: 0.0222\n"
          ]
        },
        {
          "output_type": "stream",
          "name": "stderr",
          "text": [
            "epoch:4, loss:0.0028, mem:0.38:  30%|███       | 604/2000 [00:20<00:49, 28.11it/s]"
          ]
        },
        {
          "output_type": "stream",
          "name": "stdout",
          "text": [
            "Epoch [5/5], Step [600/2000], Loss: 0.0115\n"
          ]
        },
        {
          "output_type": "stream",
          "name": "stderr",
          "text": [
            "epoch:4, loss:0.0068, mem:0.38:  35%|███▌      | 704/2000 [00:23<00:42, 30.78it/s]"
          ]
        },
        {
          "output_type": "stream",
          "name": "stdout",
          "text": [
            "Epoch [5/5], Step [700/2000], Loss: 0.0260\n"
          ]
        },
        {
          "output_type": "stream",
          "name": "stderr",
          "text": [
            "epoch:4, loss:0.0402, mem:0.38:  40%|████      | 805/2000 [00:27<00:40, 29.53it/s]"
          ]
        },
        {
          "output_type": "stream",
          "name": "stdout",
          "text": [
            "Epoch [5/5], Step [800/2000], Loss: 0.0132\n"
          ]
        },
        {
          "output_type": "stream",
          "name": "stderr",
          "text": [
            "epoch:4, loss:0.0185, mem:0.38:  45%|████▌     | 904/2000 [00:30<00:38, 28.38it/s]"
          ]
        },
        {
          "output_type": "stream",
          "name": "stdout",
          "text": [
            "Epoch [5/5], Step [900/2000], Loss: 0.0203\n"
          ]
        },
        {
          "output_type": "stream",
          "name": "stderr",
          "text": [
            "epoch:4, loss:0.0167, mem:0.38:  50%|█████     | 1004/2000 [00:33<00:32, 30.72it/s]"
          ]
        },
        {
          "output_type": "stream",
          "name": "stdout",
          "text": [
            "Epoch [5/5], Step [1000/2000], Loss: 0.0185\n"
          ]
        },
        {
          "output_type": "stream",
          "name": "stderr",
          "text": [
            "epoch:4, loss:0.0381, mem:0.38:  55%|█████▌    | 1105/2000 [00:37<00:31, 28.56it/s]"
          ]
        },
        {
          "output_type": "stream",
          "name": "stdout",
          "text": [
            "Epoch [5/5], Step [1100/2000], Loss: 0.0280\n"
          ]
        },
        {
          "output_type": "stream",
          "name": "stderr",
          "text": [
            "epoch:4, loss:0.0241, mem:0.38:  60%|██████    | 1206/2000 [00:40<00:26, 30.17it/s]"
          ]
        },
        {
          "output_type": "stream",
          "name": "stdout",
          "text": [
            "Epoch [5/5], Step [1200/2000], Loss: 0.0185\n"
          ]
        },
        {
          "output_type": "stream",
          "name": "stderr",
          "text": [
            "epoch:4, loss:0.0040, mem:0.38:  65%|██████▌   | 1306/2000 [00:44<00:23, 29.59it/s]"
          ]
        },
        {
          "output_type": "stream",
          "name": "stdout",
          "text": [
            "Epoch [5/5], Step [1300/2000], Loss: 0.0028\n"
          ]
        },
        {
          "output_type": "stream",
          "name": "stderr",
          "text": [
            "epoch:4, loss:0.0115, mem:0.38:  70%|███████   | 1405/2000 [00:47<00:20, 29.01it/s]"
          ]
        },
        {
          "output_type": "stream",
          "name": "stdout",
          "text": [
            "Epoch [5/5], Step [1400/2000], Loss: 0.0068\n"
          ]
        },
        {
          "output_type": "stream",
          "name": "stderr",
          "text": [
            "epoch:4, loss:0.0040, mem:0.38:  75%|███████▌  | 1504/2000 [00:50<00:16, 29.38it/s]"
          ]
        },
        {
          "output_type": "stream",
          "name": "stdout",
          "text": [
            "Epoch [5/5], Step [1500/2000], Loss: 0.0068\n"
          ]
        },
        {
          "output_type": "stream",
          "name": "stderr",
          "text": [
            "epoch:4, loss:0.0222, mem:0.38:  80%|████████  | 1604/2000 [00:54<00:13, 28.66it/s]"
          ]
        },
        {
          "output_type": "stream",
          "name": "stdout",
          "text": [
            "Epoch [5/5], Step [1600/2000], Loss: 0.0083\n"
          ]
        },
        {
          "output_type": "stream",
          "name": "stderr",
          "text": [
            "epoch:4, loss:0.0300, mem:0.38:  85%|████████▌ | 1705/2000 [00:57<00:10, 29.42it/s]"
          ]
        },
        {
          "output_type": "stream",
          "name": "stdout",
          "text": [
            "Epoch [5/5], Step [1700/2000], Loss: 0.0149\n"
          ]
        },
        {
          "output_type": "stream",
          "name": "stderr",
          "text": [
            "epoch:4, loss:0.0040, mem:0.38:  90%|█████████ | 1805/2000 [01:00<00:06, 30.42it/s]"
          ]
        },
        {
          "output_type": "stream",
          "name": "stdout",
          "text": [
            "Epoch [5/5], Step [1800/2000], Loss: 0.0241\n"
          ]
        },
        {
          "output_type": "stream",
          "name": "stderr",
          "text": [
            "epoch:4, loss:0.0149, mem:0.38:  95%|█████████▌| 1904/2000 [01:04<00:03, 29.26it/s]"
          ]
        },
        {
          "output_type": "stream",
          "name": "stdout",
          "text": [
            "Epoch [5/5], Step [1900/2000], Loss: 0.0099\n"
          ]
        },
        {
          "output_type": "stream",
          "name": "stderr",
          "text": [
            "                                                                                   "
          ]
        },
        {
          "output_type": "stream",
          "name": "stdout",
          "text": [
            "Epoch [5/5], Step [2000/2000], Loss: 0.0083\n",
            "Training Complete\n"
          ]
        },
        {
          "output_type": "stream",
          "name": "stderr",
          "text": [
            "\r"
          ]
        }
      ]
    },
    {
      "cell_type": "code",
      "source": [
        "train_losses = [loss.cpu().item() for loss in train_losses]"
      ],
      "metadata": {
        "id": "CyDoAgx6ZoHD"
      },
      "execution_count": 29,
      "outputs": []
    },
    {
      "cell_type": "code",
      "source": [
        "# Show loss curve\n",
        "# validations is a list of tuples, this unzips it into two lists\n",
        "# a, b = zip(*val_losses)\n",
        "plt.plot(train_losses, label='train')\n",
        "# plt.plot(a, b, label='val')\n",
        "plt.legend()\n",
        "plt.show()"
      ],
      "metadata": {
        "colab": {
          "base_uri": "https://localhost:8080/",
          "height": 430
        },
        "id": "y4L7lZihZBRg",
        "outputId": "5a7ad660-7f01-4e4f-e639-f11ed6c5ba83"
      },
      "execution_count": 30,
      "outputs": [
        {
          "output_type": "display_data",
          "data": {
            "text/plain": [
              "<Figure size 640x480 with 1 Axes>"
            ],
            "image/png": "[encoded data removed]"
          },
          "metadata": {}
        }
      ]
    },
    {
      "cell_type": "code",
      "source": [
        "# Save the state dictionary\n",
        "drive_dir = 'drive/MyDrive/'\n",
        "torch.save(model.state_dict(), drive_dir + 'model/attn.pth')"
      ],
      "metadata": {
        "id": "56UsbW5h4oFx"
      },
      "execution_count": 23,
      "outputs": []
    },
    {
      "cell_type": "markdown",
      "source": [
        "# Inference"
      ],
      "metadata": {
        "id": "rPYQwRek_HKA"
      }
    },
    {
      "cell_type": "code",
      "source": [
        "train_data[0]"
      ],
      "metadata": {
        "colab": {
          "base_uri": "https://localhost:8080/"
        },
        "id": "je6nzzvb_WJn",
        "outputId": "de58751b-ff47-445a-9217-55453f72985e"
      },
      "execution_count": 26,
      "outputs": [
        {
          "output_type": "execute_result",
          "data": {
            "text/plain": [
              "(tensor([[0., 0., 0.,  ..., 0., 0., 0.]]),\n",
              " tensor([[0., 0., 0.,  ..., 0., 0., 0.],\n",
              "         [0., 0., 0.,  ..., 0., 0., 0.],\n",
              "         [0., 0., 0.,  ..., 0., 0., 0.],\n",
              "         ...,\n",
              "         [0., 0., 0.,  ..., 0., 0., 0.],\n",
              "         [0., 0., 0.,  ..., 0., 0., 0.],\n",
              "         [0., 0., 0.,  ..., 0., 0., 0.]]))"
            ]
          },
          "metadata": {},
          "execution_count": 26
        }
      ]
    },
    {
      "cell_type": "code",
      "source": [
        "# Initialize the model\n",
        "model = TransformerNet(vocab_size, dmodel)\n",
        "\n",
        "# Load the saved state dictionary\n",
        "model.load_state_dict(torch.load('model.pth'))\n",
        "\n",
        "# Set the model to evaluation mode for inference\n",
        "model.eval()"
      ],
      "metadata": {
        "colab": {
          "base_uri": "https://localhost:8080/"
        },
        "id": "xlNVIDsN7JLz",
        "outputId": "52a14c98-19f7-44d3-e0e0-ca60199d3333"
      },
      "execution_count": 25,
      "outputs": [
        {
          "output_type": "execute_result",
          "data": {
            "text/plain": [
              "TransformerNet(\n",
              "  (embedding_layer): Linear(in_features=2000, out_features=512, bias=True)\n",
              "  (encoder_layers): ModuleList(\n",
              "    (0-5): 6 x EncoderLayer(\n",
              "      (mhaBlock): MultiheadAttentionBlock(\n",
              "        (mhAtt): MultiheadAttention(\n",
              "          (out_proj): NonDynamicallyQuantizableLinear(in_features=512, out_features=512, bias=True)\n",
              "        )\n",
              "      )\n",
              "      (ff): FeedForwardBlock(\n",
              "        (fc1): Linear(in_features=512, out_features=512, bias=True)\n",
              "        (fc2): Linear(in_features=512, out_features=512, bias=True)\n",
              "        (dropout): Dropout(p=0.1, inplace=False)\n",
              "        (relu): ReLU(inplace=True)\n",
              "      )\n",
              "      (norm): LayerNorm((512,), eps=1e-05, elementwise_affine=True)\n",
              "    )\n",
              "  )\n",
              "  (decoder_layers): ModuleList(\n",
              "    (0-5): 6 x DecoderLayer(\n",
              "      (mhaBlock1): MultiheadAttentionBlock(\n",
              "        (mhAtt): MultiheadAttention(\n",
              "          (out_proj): NonDynamicallyQuantizableLinear(in_features=512, out_features=512, bias=True)\n",
              "        )\n",
              "      )\n",
              "      (ffBlock): FeedForwardBlock(\n",
              "        (fc1): Linear(in_features=512, out_features=512, bias=True)\n",
              "        (fc2): Linear(in_features=512, out_features=512, bias=True)\n",
              "        (dropout): Dropout(p=0.1, inplace=False)\n",
              "        (relu): ReLU(inplace=True)\n",
              "      )\n",
              "      (mhaBlock2): MultiheadAttentionBlock(\n",
              "        (mhAtt): MultiheadAttention(\n",
              "          (out_proj): NonDynamicallyQuantizableLinear(in_features=512, out_features=512, bias=True)\n",
              "        )\n",
              "      )\n",
              "      (norm): LayerNorm((512,), eps=1e-05, elementwise_affine=True)\n",
              "    )\n",
              "  )\n",
              "  (last): Linear(in_features=512, out_features=2000, bias=True)\n",
              "  (softmax): Softmax(dim=1)\n",
              ")"
            ]
          },
          "metadata": {},
          "execution_count": 25
        }
      ]
    },
    {
      "cell_type": "code",
      "source": [
        "# Decode English sentences\n",
        "decoded_en = [sp_en.decode(encoded_sentence) for encoded_sentence in encoded_en]\n",
        "\n",
        "# Decode Japanese sentences\n",
        "decoded_jp = [sp_jp.decode(encoded_sentence) for encoded_sentence in encoded_jp]"
      ],
      "metadata": {
        "id": "WyEHOzsl7bns"
      },
      "execution_count": null,
      "outputs": []
    }
  ]
}