{
  "nbformat": 4,
  "nbformat_minor": 0,
  "metadata": {
    "colab": {
      "provenance": [],
      "authorship_tag": "ABX9TyMItKTlIWZgURrBHmH4jRxd",
      "include_colab_link": true
    },
    "kernelspec": {
      "name": "python3",
      "display_name": "Python 3"
    },
    "language_info": {
      "name": "python"
    }
  },
  "cells": [
    {
      "cell_type": "markdown",
      "metadata": {
        "id": "view-in-github",
        "colab_type": "text"
      },
      "source": [
        "<a href=\"https://colab.research.google.com/github/sethcoast/attention/blob/main/attention_is_all_you_need.ipynb\" target=\"_parent\"><img src=\"https://colab.research.google.com/assets/colab-badge.svg\" alt=\"Open In Colab\"/></a>"
      ]
    },
    {
      "cell_type": "code",
      "execution_count": 1,
      "metadata": {
        "colab": {
          "base_uri": "https://localhost:8080/"
        },
        "id": "NU3rAkqxrIMF",
        "outputId": "662bb276-904c-4161-b813-83d6c558af9e"
      },
      "outputs": [
        {
          "output_type": "stream",
          "name": "stdout",
          "text": [
            "Mounted at /content/drive\n"
          ]
        }
      ],
      "source": [
        "from google.colab import drive\n",
        "drive.mount('/content/drive')"
      ]
    },
    {
      "cell_type": "code",
      "source": [
        "# what does the architecture look like?\n",
        "\n",
        "# How has Pytorch changed in the last little while?\n",
        "\n",
        "# What do I need for all of this?\n",
        "# 1. Training data\n",
        "# 2. Model\n",
        "# 3. Training loop\n",
        "\n",
        "# This will likely be done in a few separate phases\n",
        "# 1. Build and validate the model architecture\n",
        "        # training data?\n",
        "# 2. Set up training/snapshotting system in GCP\n"
      ],
      "metadata": {
        "id": "t6UGh4EIro9O"
      },
      "execution_count": 10,
      "outputs": []
    },
    {
      "cell_type": "code",
      "source": [
        "# Import the shit\n",
        "import torch\n",
        "import torch.nn as nn\n",
        "import torch.optim as optim\n",
        "import torch.utils.data\n",
        "import torchvision\n",
        "import torchvision.transforms\n",
        "\n",
        "import numpy as np\n",
        "import matplotlib.pyplot as plt\n"
      ],
      "metadata": {
        "id": "h_zJk3Ontz9e"
      },
      "execution_count": 11,
      "outputs": []
    },
    {
      "cell_type": "code",
      "source": [
        "# get the data?\n"
      ],
      "metadata": {
        "id": "Wq8CbpShueoH"
      },
      "execution_count": 15,
      "outputs": []
    },
    {
      "cell_type": "code",
      "source": [
        "# Feed forward block (sublayer)\n",
        "class FeedForwardBlock(nn.Module):\n",
        "    def __init__(self, dmodel):\n",
        "        super(FeedForwardBlock, self).__init__()\n",
        "        # Define the feed forward network layers\n",
        "        self.fc1 = nn.Linear(dmodel, dmodel)\n",
        "        self.fc2 = nn.Linear(dmodel, dmodel)\n",
        "        self.dropout = nn.Dropout(0.1)\n",
        "        self.relu = nn.ReLU(inplace=True) # inplace = True to save memory\n",
        "\n",
        "    def forward(self, x):\n",
        "        x = self.fc1(x)\n",
        "        x = self.relu(x)\n",
        "        x = self.fc2(x)\n",
        "        x = self.dropout(x)\n",
        "\n",
        "        return x\n",
        "\n",
        "# Multihead Attention block (Sublayer)\n",
        "class MultiheadAttentionBlock(nn.Module):\n",
        "    def __init__(self, dmodel, mask=False):\n",
        "        super(MultiheadAttentionBlock, self).__init__()\n",
        "        self.mhAtt = nn.MultiheadAttention(dmodel, 8)\n",
        "        self.dropout = nn.Dropout(0.1)\n",
        "\n",
        "    def forward(self, x):\n",
        "        x = self.mhAtt(x)\n",
        "        x = self.dropout(x)\n",
        "\n",
        "        return x\n"
      ],
      "metadata": {
        "id": "JTQMPKDFmvcv"
      },
      "execution_count": 18,
      "outputs": []
    },
    {
      "cell_type": "code",
      "source": [
        "# define the encoder model\n",
        "class Encoder(nn.Module):\n",
        "    def __init__(self, dmodel):\n",
        "        super(Encoder, self).__init__()\n",
        "        # Define the attention layer\n",
        "        self.mhaBlock = MultiheadAttentionBlock(dmodel)\n",
        "        self.ff = FeedForwardBlock(dmodel)\n",
        "\n",
        "\n",
        "    def forward(self, x):\n",
        "        # Multi Head Attention Sublayer()\n",
        "        out = self.mhaBlock(x)\n",
        "        out += x # residual connection\n",
        "        out = self.norm(out) # normalization\n",
        "\n",
        "        # Feed Forward Sublayer()\n",
        "        out2 = self.ff(out)\n",
        "        out2 += out # residual connection\n",
        "        out2 = self.norm(out2) # normalization\n",
        "\n",
        "        return out2\n"
      ],
      "metadata": {
        "id": "FMab9ODTvWl3"
      },
      "execution_count": 13,
      "outputs": []
    },
    {
      "cell_type": "code",
      "source": [
        "class TransformerNet(nn.Module):\n",
        "    def __init__(self, dmodel):\n",
        "        super(TransformerNet, self).__init__()\n",
        "        # Define all of the stuff needed for the Decoder network\n",
        "        # todo: masked? How to do that? leave for v2?\n",
        "        self.mhAtt = nn.MultiheadAttention(dmodel, 8)\n",
        "        # Define the second fully connected layer\n",
        "        self.fc2 = nn.Linear(hidden_size, num_classes)\n",
        "\n",
        "    def forward(self, x):\n",
        "        # Apply a ReLU non-linearity to the first layer's output\n",
        "        x = F.relu(self.fc1(x))\n",
        "        # The output layer with no non-linearity for classification\n",
        "        x = self.fc2(x)\n",
        "        return x\n"
      ],
      "metadata": {
        "id": "kD5XyaSNvYJA"
      },
      "execution_count": 14,
      "outputs": []
    },
    {
      "cell_type": "code",
      "source": [],
      "metadata": {
        "id": "B71KwbwCjBGY"
      },
      "execution_count": null,
      "outputs": []
    }
  ]
}